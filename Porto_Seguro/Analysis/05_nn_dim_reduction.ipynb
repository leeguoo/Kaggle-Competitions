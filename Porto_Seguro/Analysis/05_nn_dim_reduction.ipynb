{
 "cells": [
  {
   "cell_type": "code",
   "execution_count": 76,
   "metadata": {
    "collapsed": false
   },
   "outputs": [],
   "source": [
    "from keras.models import Sequential\n",
    "from keras.layers import Dense\n",
    "import numpy as np\n",
    "import pandas as pd"
   ]
  },
  {
   "cell_type": "markdown",
   "metadata": {},
   "source": [
    "# 1. Read Data"
   ]
  },
  {
   "cell_type": "code",
   "execution_count": 77,
   "metadata": {
    "collapsed": true
   },
   "outputs": [],
   "source": [
    "path = \"~/Desktop/kaggle/Porto/\""
   ]
  },
  {
   "cell_type": "code",
   "execution_count": 78,
   "metadata": {
    "collapsed": false
   },
   "outputs": [],
   "source": [
    "df = pd.read_csv(path+'train.csv',index_col='id')#,nrows=50000)"
   ]
  },
  {
   "cell_type": "code",
   "execution_count": 79,
   "metadata": {
    "collapsed": true
   },
   "outputs": [],
   "source": [
    "df = df.reset_index(drop=True)"
   ]
  },
  {
   "cell_type": "code",
   "execution_count": 80,
   "metadata": {
    "collapsed": false
   },
   "outputs": [
    {
     "data": {
      "text/html": [
       "<div>\n",
       "<table border=\"1\" class=\"dataframe\">\n",
       "  <thead>\n",
       "    <tr style=\"text-align: right;\">\n",
       "      <th></th>\n",
       "      <th>target</th>\n",
       "      <th>ps_ind_01</th>\n",
       "      <th>ps_ind_02_cat</th>\n",
       "      <th>ps_ind_03</th>\n",
       "      <th>ps_ind_04_cat</th>\n",
       "      <th>ps_ind_05_cat</th>\n",
       "      <th>ps_ind_06_bin</th>\n",
       "      <th>ps_ind_07_bin</th>\n",
       "      <th>ps_ind_08_bin</th>\n",
       "      <th>ps_ind_09_bin</th>\n",
       "      <th>...</th>\n",
       "      <th>ps_calc_11</th>\n",
       "      <th>ps_calc_12</th>\n",
       "      <th>ps_calc_13</th>\n",
       "      <th>ps_calc_14</th>\n",
       "      <th>ps_calc_15_bin</th>\n",
       "      <th>ps_calc_16_bin</th>\n",
       "      <th>ps_calc_17_bin</th>\n",
       "      <th>ps_calc_18_bin</th>\n",
       "      <th>ps_calc_19_bin</th>\n",
       "      <th>ps_calc_20_bin</th>\n",
       "    </tr>\n",
       "  </thead>\n",
       "  <tbody>\n",
       "    <tr>\n",
       "      <th>0</th>\n",
       "      <td>0</td>\n",
       "      <td>2</td>\n",
       "      <td>2</td>\n",
       "      <td>5</td>\n",
       "      <td>1</td>\n",
       "      <td>0</td>\n",
       "      <td>0</td>\n",
       "      <td>1</td>\n",
       "      <td>0</td>\n",
       "      <td>0</td>\n",
       "      <td>...</td>\n",
       "      <td>9</td>\n",
       "      <td>1</td>\n",
       "      <td>5</td>\n",
       "      <td>8</td>\n",
       "      <td>0</td>\n",
       "      <td>1</td>\n",
       "      <td>1</td>\n",
       "      <td>0</td>\n",
       "      <td>0</td>\n",
       "      <td>1</td>\n",
       "    </tr>\n",
       "    <tr>\n",
       "      <th>1</th>\n",
       "      <td>0</td>\n",
       "      <td>1</td>\n",
       "      <td>1</td>\n",
       "      <td>7</td>\n",
       "      <td>0</td>\n",
       "      <td>0</td>\n",
       "      <td>0</td>\n",
       "      <td>0</td>\n",
       "      <td>1</td>\n",
       "      <td>0</td>\n",
       "      <td>...</td>\n",
       "      <td>3</td>\n",
       "      <td>1</td>\n",
       "      <td>1</td>\n",
       "      <td>9</td>\n",
       "      <td>0</td>\n",
       "      <td>1</td>\n",
       "      <td>1</td>\n",
       "      <td>0</td>\n",
       "      <td>1</td>\n",
       "      <td>0</td>\n",
       "    </tr>\n",
       "    <tr>\n",
       "      <th>2</th>\n",
       "      <td>0</td>\n",
       "      <td>5</td>\n",
       "      <td>4</td>\n",
       "      <td>9</td>\n",
       "      <td>1</td>\n",
       "      <td>0</td>\n",
       "      <td>0</td>\n",
       "      <td>0</td>\n",
       "      <td>1</td>\n",
       "      <td>0</td>\n",
       "      <td>...</td>\n",
       "      <td>4</td>\n",
       "      <td>2</td>\n",
       "      <td>7</td>\n",
       "      <td>7</td>\n",
       "      <td>0</td>\n",
       "      <td>1</td>\n",
       "      <td>1</td>\n",
       "      <td>0</td>\n",
       "      <td>1</td>\n",
       "      <td>0</td>\n",
       "    </tr>\n",
       "    <tr>\n",
       "      <th>3</th>\n",
       "      <td>0</td>\n",
       "      <td>0</td>\n",
       "      <td>1</td>\n",
       "      <td>2</td>\n",
       "      <td>0</td>\n",
       "      <td>0</td>\n",
       "      <td>1</td>\n",
       "      <td>0</td>\n",
       "      <td>0</td>\n",
       "      <td>0</td>\n",
       "      <td>...</td>\n",
       "      <td>2</td>\n",
       "      <td>2</td>\n",
       "      <td>4</td>\n",
       "      <td>9</td>\n",
       "      <td>0</td>\n",
       "      <td>0</td>\n",
       "      <td>0</td>\n",
       "      <td>0</td>\n",
       "      <td>0</td>\n",
       "      <td>0</td>\n",
       "    </tr>\n",
       "    <tr>\n",
       "      <th>4</th>\n",
       "      <td>0</td>\n",
       "      <td>0</td>\n",
       "      <td>2</td>\n",
       "      <td>0</td>\n",
       "      <td>1</td>\n",
       "      <td>0</td>\n",
       "      <td>1</td>\n",
       "      <td>0</td>\n",
       "      <td>0</td>\n",
       "      <td>0</td>\n",
       "      <td>...</td>\n",
       "      <td>3</td>\n",
       "      <td>1</td>\n",
       "      <td>1</td>\n",
       "      <td>3</td>\n",
       "      <td>0</td>\n",
       "      <td>0</td>\n",
       "      <td>0</td>\n",
       "      <td>1</td>\n",
       "      <td>1</td>\n",
       "      <td>0</td>\n",
       "    </tr>\n",
       "  </tbody>\n",
       "</table>\n",
       "<p>5 rows × 58 columns</p>\n",
       "</div>"
      ],
      "text/plain": [
       "   target  ps_ind_01  ps_ind_02_cat  ps_ind_03  ps_ind_04_cat  ps_ind_05_cat  \\\n",
       "0       0          2              2          5              1              0   \n",
       "1       0          1              1          7              0              0   \n",
       "2       0          5              4          9              1              0   \n",
       "3       0          0              1          2              0              0   \n",
       "4       0          0              2          0              1              0   \n",
       "\n",
       "   ps_ind_06_bin  ps_ind_07_bin  ps_ind_08_bin  ps_ind_09_bin       ...        \\\n",
       "0              0              1              0              0       ...         \n",
       "1              0              0              1              0       ...         \n",
       "2              0              0              1              0       ...         \n",
       "3              1              0              0              0       ...         \n",
       "4              1              0              0              0       ...         \n",
       "\n",
       "   ps_calc_11  ps_calc_12  ps_calc_13  ps_calc_14  ps_calc_15_bin  \\\n",
       "0           9           1           5           8               0   \n",
       "1           3           1           1           9               0   \n",
       "2           4           2           7           7               0   \n",
       "3           2           2           4           9               0   \n",
       "4           3           1           1           3               0   \n",
       "\n",
       "   ps_calc_16_bin  ps_calc_17_bin  ps_calc_18_bin  ps_calc_19_bin  \\\n",
       "0               1               1               0               0   \n",
       "1               1               1               0               1   \n",
       "2               1               1               0               1   \n",
       "3               0               0               0               0   \n",
       "4               0               0               1               1   \n",
       "\n",
       "   ps_calc_20_bin  \n",
       "0               1  \n",
       "1               0  \n",
       "2               0  \n",
       "3               0  \n",
       "4               0  \n",
       "\n",
       "[5 rows x 58 columns]"
      ]
     },
     "execution_count": 80,
     "metadata": {},
     "output_type": "execute_result"
    }
   ],
   "source": [
    "df.head()"
   ]
  },
  {
   "cell_type": "markdown",
   "metadata": {},
   "source": [
    "# 2. Get Features and Target"
   ]
  },
  {
   "cell_type": "code",
   "execution_count": 81,
   "metadata": {
    "collapsed": false
   },
   "outputs": [],
   "source": [
    "features = list(df.columns)\n",
    "target = 'target'\n",
    "features.remove(target)"
   ]
  },
  {
   "cell_type": "code",
   "execution_count": 82,
   "metadata": {
    "collapsed": true
   },
   "outputs": [],
   "source": [
    "X = np.array(df[features])\n",
    "y = df[target]"
   ]
  },
  {
   "cell_type": "markdown",
   "metadata": {},
   "source": [
    "# 5. Build Model"
   ]
  },
  {
   "cell_type": "code",
   "execution_count": 83,
   "metadata": {
    "collapsed": true
   },
   "outputs": [],
   "source": [
    "model = Sequential()\n",
    "model.add(Dense(25, input_dim=57, activation='relu'))\n",
    "model.add(Dense(57, activation='relu'))"
   ]
  },
  {
   "cell_type": "code",
   "execution_count": 89,
   "metadata": {
    "collapsed": false
   },
   "outputs": [
    {
     "name": "stdout",
     "output_type": "stream",
     "text": [
      "Epoch 1/20\n",
      "595212/595212 [==============================] - 4s - loss: 0.6444\n",
      "Epoch 2/20\n",
      "595212/595212 [==============================] - 3s - loss: 0.6920\n",
      "Epoch 3/20\n",
      "595212/595212 [==============================] - 5s - loss: 0.6437\n",
      "Epoch 4/20\n",
      "595212/595212 [==============================] - 3s - loss: 0.6518\n",
      "Epoch 5/20\n",
      "595212/595212 [==============================] - 3s - loss: 0.6648\n",
      "Epoch 6/20\n",
      "595212/595212 [==============================] - 3s - loss: 0.6514\n",
      "Epoch 7/20\n",
      "595212/595212 [==============================] - 4s - loss: 0.6367\n",
      "Epoch 8/20\n",
      "595212/595212 [==============================] - 3s - loss: 0.6361\n",
      "Epoch 9/20\n",
      "595212/595212 [==============================] - 4s - loss: 0.6426\n",
      "Epoch 10/20\n",
      "595212/595212 [==============================] - 3s - loss: 0.6430\n",
      "Epoch 11/20\n",
      "595212/595212 [==============================] - 3s - loss: 0.6359\n",
      "Epoch 12/20\n",
      "595212/595212 [==============================] - 3s - loss: 0.6284\n",
      "Epoch 13/20\n",
      "595212/595212 [==============================] - 4s - loss: 0.6263\n",
      "Epoch 14/20\n",
      "595212/595212 [==============================] - 3s - loss: 0.6282\n",
      "Epoch 15/20\n",
      "595212/595212 [==============================] - 4s - loss: 0.6288\n",
      "Epoch 16/20\n",
      "595212/595212 [==============================] - 3s - loss: 0.6255\n",
      "Epoch 17/20\n",
      "595212/595212 [==============================] - 5s - loss: 0.6207\n",
      "Epoch 18/20\n",
      "595212/595212 [==============================] - 4s - loss: 0.6179\n",
      "Epoch 19/20\n",
      "595212/595212 [==============================] - 3s - loss: 0.6174\n",
      "Epoch 20/20\n",
      "595212/595212 [==============================] - 3s - loss: 0.6174\n"
     ]
    },
    {
     "data": {
      "text/plain": [
       "<keras.callbacks.History at 0x12434e150>"
      ]
     },
     "execution_count": 89,
     "metadata": {},
     "output_type": "execute_result"
    }
   ],
   "source": [
    "from keras import optimizers\n",
    "\n",
    "optimizers.Adam(lr=0.5, beta_1=0.9, beta_2=0.999, epsilon=1e-08, decay=0.0)\n",
    "\n",
    "model.compile(loss='mean_squared_error', optimizer='adam')\n",
    "\n",
    "model.fit(X, \n",
    "          X, \n",
    "          epochs=20, \n",
    "          batch_size=len(X), \n",
    "          #validation_split=0.2, \n",
    "          verbose=1)"
   ]
  },
  {
   "cell_type": "code",
   "execution_count": 90,
   "metadata": {
    "collapsed": false
   },
   "outputs": [
    {
     "data": {
      "text/plain": [
       "2"
      ]
     },
     "execution_count": 90,
     "metadata": {},
     "output_type": "execute_result"
    }
   ],
   "source": [
    "len(model.layers[0].get_weights())"
   ]
  },
  {
   "cell_type": "code",
   "execution_count": 91,
   "metadata": {
    "collapsed": false
   },
   "outputs": [],
   "source": [
    "model2 = Sequential()\n",
    "model2.add(Dense(25, input_dim=57, weights=model.layers[0].get_weights()))\n",
    "#model2.add(Activation('relu'))\n",
    "#model2.add(Activation('relu'))\n",
    "\n",
    "new_X = model2.predict(X)"
   ]
  },
  {
   "cell_type": "code",
   "execution_count": 92,
   "metadata": {
    "collapsed": false
   },
   "outputs": [
    {
     "data": {
      "text/plain": [
       "(595212, 25)"
      ]
     },
     "execution_count": 92,
     "metadata": {},
     "output_type": "execute_result"
    }
   ],
   "source": [
    "new_X.shape"
   ]
  },
  {
   "cell_type": "code",
   "execution_count": 93,
   "metadata": {
    "collapsed": true
   },
   "outputs": [],
   "source": [
    "def gini(actual, pred, cmpcol = 0, sortcol = 1):\n",
    "    assert( len(actual) == len(pred) )\n",
    "    all = np.asarray(np.c_[ actual, pred, np.arange(len(actual)) ], dtype=np.float)\n",
    "    all = all[ np.lexsort((all[:,2], -1*all[:,1])) ]\n",
    "    totalLosses = all[:,0].sum()\n",
    "    giniSum = all[:,0].cumsum().sum() / totalLosses\n",
    " \n",
    "    giniSum -= (len(actual) + 1) / 2.\n",
    "    return giniSum / len(actual)\n",
    " \n",
    "def gini_normalized(a, p):\n",
    "    return gini(a, p) / gini(a, a)\n",
    "\n",
    "def gini_coefficient(preds,dtrain):\n",
    "    y = dtrain.get_label()\n",
    "    return 'gini', -gini_normalized(y,preds)"
   ]
  },
  {
   "cell_type": "code",
   "execution_count": 94,
   "metadata": {
    "collapsed": true
   },
   "outputs": [],
   "source": [
    "from sklearn.model_selection import KFold\n",
    "\n",
    "from xgboost import XGBClassifier\n",
    "xgb = XGBClassifier(max_depth=4, \n",
    "                    learning_rate=0.04, \n",
    "                    n_estimators=1000, \n",
    "                    objective='binary:logistic',\n",
    "                    nthread=-1, \n",
    "                    gamma=0, \n",
    "                    subsample=0.8,\n",
    "                    colsample_bytree=0.8,  \n",
    "                    scale_pos_weight=30, \n",
    "                    missing=None)"
   ]
  },
  {
   "cell_type": "code",
   "execution_count": 95,
   "metadata": {
    "collapsed": false
   },
   "outputs": [
    {
     "name": "stdout",
     "output_type": "stream",
     "text": [
      "[0]\tvalidation_0-error:0.580019\tvalidation_1-error:0.582774\tvalidation_0-gini:-0.198663\tvalidation_1-gini:-0.190952\n",
      "Multiple eval metrics have been passed: 'validation_1-gini' will be used for early stopping.\n",
      "\n",
      "Will train until validation_1-gini hasn't improved in 10 rounds.\n",
      "[10]\tvalidation_0-error:0.562667\tvalidation_1-error:0.564871\tvalidation_0-gini:-0.253134\tvalidation_1-gini:-0.234274\n",
      "[20]\tvalidation_0-error:0.552012\tvalidation_1-error:0.554011\tvalidation_0-gini:-0.265306\tvalidation_1-gini:-0.244614\n",
      "[30]\tvalidation_0-error:0.537214\tvalidation_1-error:0.538386\tvalidation_0-gini:-0.273344\tvalidation_1-gini:-0.250521\n",
      "[40]\tvalidation_0-error:0.526421\tvalidation_1-error:0.527483\tvalidation_0-gini:-0.27947\tvalidation_1-gini:-0.254332\n",
      "[50]\tvalidation_0-error:0.521159\tvalidation_1-error:0.522587\tvalidation_0-gini:-0.285288\tvalidation_1-gini:-0.257831\n",
      "[60]\tvalidation_0-error:0.513313\tvalidation_1-error:0.514691\tvalidation_0-gini:-0.290184\tvalidation_1-gini:-0.259926\n",
      "[70]\tvalidation_0-error:0.50586\tvalidation_1-error:0.507493\tvalidation_0-gini:-0.296011\tvalidation_1-gini:-0.262233\n",
      "[80]\tvalidation_0-error:0.502423\tvalidation_1-error:0.504059\tvalidation_0-gini:-0.300636\tvalidation_1-gini:-0.263694\n",
      "[90]\tvalidation_0-error:0.496146\tvalidation_1-error:0.497715\tvalidation_0-gini:-0.305735\tvalidation_1-gini:-0.265956\n",
      "[100]\tvalidation_0-error:0.491324\tvalidation_1-error:0.49332\tvalidation_0-gini:-0.309481\tvalidation_1-gini:-0.267123\n",
      "[110]\tvalidation_0-error:0.487416\tvalidation_1-error:0.489032\tvalidation_0-gini:-0.314492\tvalidation_1-gini:-0.267884\n",
      "[120]\tvalidation_0-error:0.484755\tvalidation_1-error:0.486385\tvalidation_0-gini:-0.318007\tvalidation_1-gini:-0.268585\n",
      "[130]\tvalidation_0-error:0.48123\tvalidation_1-error:0.483451\tvalidation_0-gini:-0.321516\tvalidation_1-gini:-0.269401\n",
      "[140]\tvalidation_0-error:0.478307\tvalidation_1-error:0.480514\tvalidation_0-gini:-0.325735\tvalidation_1-gini:-0.270209\n",
      "[150]\tvalidation_0-error:0.475447\tvalidation_1-error:0.478263\tvalidation_0-gini:-0.329592\tvalidation_1-gini:-0.270397\n",
      "[160]\tvalidation_0-error:0.473317\tvalidation_1-error:0.476264\tvalidation_0-gini:-0.334055\tvalidation_1-gini:-0.270998\n",
      "[170]\tvalidation_0-error:0.471849\tvalidation_1-error:0.474927\tvalidation_0-gini:-0.337351\tvalidation_1-gini:-0.270779\n",
      "Stopping. Best iteration:\n",
      "[161]\tvalidation_0-error:0.473549\tvalidation_1-error:0.476472\tvalidation_0-gini:-0.33432\tvalidation_1-gini:-0.27105\n",
      "\n",
      "[0]\tvalidation_0-error:0.667033\tvalidation_1-error:0.664298\tvalidation_0-gini:-0.203151\tvalidation_1-gini:-0.190699\n",
      "Multiple eval metrics have been passed: 'validation_1-gini' will be used for early stopping.\n",
      "\n",
      "Will train until validation_1-gini hasn't improved in 10 rounds.\n",
      "[10]\tvalidation_0-error:0.526397\tvalidation_1-error:0.525312\tvalidation_0-gini:-0.256841\tvalidation_1-gini:-0.236601\n",
      "[20]\tvalidation_0-error:0.517973\tvalidation_1-error:0.517883\tvalidation_0-gini:-0.268552\tvalidation_1-gini:-0.243858\n",
      "[30]\tvalidation_0-error:0.520356\tvalidation_1-error:0.520621\tvalidation_0-gini:-0.275804\tvalidation_1-gini:-0.247935\n",
      "[40]\tvalidation_0-error:0.519455\tvalidation_1-error:0.519949\tvalidation_0-gini:-0.28284\tvalidation_1-gini:-0.252525\n",
      "[50]\tvalidation_0-error:0.510403\tvalidation_1-error:0.511052\tvalidation_0-gini:-0.289221\tvalidation_1-gini:-0.255894\n",
      "[60]\tvalidation_0-error:0.50208\tvalidation_1-error:0.503004\tvalidation_0-gini:-0.29491\tvalidation_1-gini:-0.258928\n",
      "[70]\tvalidation_0-error:0.495467\tvalidation_1-error:0.496734\tvalidation_0-gini:-0.300422\tvalidation_1-gini:-0.261038\n",
      "[80]\tvalidation_0-error:0.490639\tvalidation_1-error:0.492819\tvalidation_0-gini:-0.305762\tvalidation_1-gini:-0.263164\n",
      "[90]\tvalidation_0-error:0.484889\tvalidation_1-error:0.487043\tvalidation_0-gini:-0.30997\tvalidation_1-gini:-0.264976\n",
      "[100]\tvalidation_0-error:0.481415\tvalidation_1-error:0.483482\tvalidation_0-gini:-0.314065\tvalidation_1-gini:-0.265601\n",
      "[110]\tvalidation_0-error:0.478374\tvalidation_1-error:0.480864\tvalidation_0-gini:-0.317901\tvalidation_1-gini:-0.266516\n",
      "[120]\tvalidation_0-error:0.474171\tvalidation_1-error:0.477242\tvalidation_0-gini:-0.321717\tvalidation_1-gini:-0.267169\n",
      "[130]\tvalidation_0-error:0.471647\tvalidation_1-error:0.474685\tvalidation_0-gini:-0.32551\tvalidation_1-gini:-0.267615\n",
      "[140]\tvalidation_0-error:0.469987\tvalidation_1-error:0.473203\tvalidation_0-gini:-0.328984\tvalidation_1-gini:-0.268047\n",
      "[150]\tvalidation_0-error:0.468156\tvalidation_1-error:0.471442\tvalidation_0-gini:-0.332813\tvalidation_1-gini:-0.269108\n",
      "[160]\tvalidation_0-error:0.466708\tvalidation_1-error:0.470101\tvalidation_0-gini:-0.336318\tvalidation_1-gini:-0.269251\n",
      "[170]\tvalidation_0-error:0.464692\tvalidation_1-error:0.468008\tvalidation_0-gini:-0.339583\tvalidation_1-gini:-0.269732\n",
      "[180]\tvalidation_0-error:0.462121\tvalidation_1-error:0.46531\tvalidation_0-gini:-0.342668\tvalidation_1-gini:-0.269983\n",
      "[190]\tvalidation_0-error:0.459258\tvalidation_1-error:0.462682\tvalidation_0-gini:-0.346032\tvalidation_1-gini:-0.270401\n",
      "[200]\tvalidation_0-error:0.457417\tvalidation_1-error:0.461012\tvalidation_0-gini:-0.349335\tvalidation_1-gini:-0.270373\n",
      "Stopping. Best iteration:\n",
      "[195]\tvalidation_0-error:0.458092\tvalidation_1-error:0.46151\tvalidation_0-gini:-0.347471\tvalidation_1-gini:-0.270475\n",
      "\n"
     ]
    }
   ],
   "source": [
    "kf = KFold(n_splits=2)\n",
    "for train_index, test_index in kf.split(X):\n",
    "    train_X, test_X = X[train_index], X[test_index]\n",
    "    train_y, test_y = y[train_index], y[test_index]\n",
    "    xgb.fit(train_X, train_y, \n",
    "            eval_set=[(train_X,train_y),(test_X,test_y)], \n",
    "            eval_metric=gini_coefficient,\n",
    "            early_stopping_rounds=10,\n",
    "            verbose=10)"
   ]
  },
  {
   "cell_type": "code",
   "execution_count": 97,
   "metadata": {
    "collapsed": false
   },
   "outputs": [
    {
     "name": "stdout",
     "output_type": "stream",
     "text": [
      "[0]\tvalidation_0-error:0.758083\tvalidation_1-error:0.758792\tvalidation_0-gini:-0.108212\tvalidation_1-gini:-0.090112\n",
      "Multiple eval metrics have been passed: 'validation_1-gini' will be used for early stopping.\n",
      "\n",
      "Will train until validation_1-gini hasn't improved in 10 rounds.\n",
      "[10]\tvalidation_0-error:0.714162\tvalidation_1-error:0.714814\tvalidation_0-gini:-0.169482\tvalidation_1-gini:-0.126536\n",
      "[20]\tvalidation_0-error:0.698598\tvalidation_1-error:0.700312\tvalidation_0-gini:-0.180907\tvalidation_1-gini:-0.130553\n",
      "[30]\tvalidation_0-error:0.706841\tvalidation_1-error:0.708978\tvalidation_0-gini:-0.194698\tvalidation_1-gini:-0.135007\n",
      "[40]\tvalidation_0-error:0.69512\tvalidation_1-error:0.698269\tvalidation_0-gini:-0.211914\tvalidation_1-gini:-0.138439\n",
      "[50]\tvalidation_0-error:0.679835\tvalidation_1-error:0.683373\tvalidation_0-gini:-0.224861\tvalidation_1-gini:-0.141196\n",
      "[60]\tvalidation_0-error:0.665917\tvalidation_1-error:0.669593\tvalidation_0-gini:-0.235666\tvalidation_1-gini:-0.142746\n",
      "[70]\tvalidation_0-error:0.657151\tvalidation_1-error:0.662171\tvalidation_0-gini:-0.247923\tvalidation_1-gini:-0.143956\n",
      "[80]\tvalidation_0-error:0.640511\tvalidation_1-error:0.645558\tvalidation_0-gini:-0.259325\tvalidation_1-gini:-0.146298\n",
      "[90]\tvalidation_0-error:0.630663\tvalidation_1-error:0.635397\tvalidation_0-gini:-0.266824\tvalidation_1-gini:-0.147064\n",
      "[100]\tvalidation_0-error:0.618291\tvalidation_1-error:0.623811\tvalidation_0-gini:-0.278179\tvalidation_1-gini:-0.148841\n",
      "[110]\tvalidation_0-error:0.608812\tvalidation_1-error:0.614594\tvalidation_0-gini:-0.286033\tvalidation_1-gini:-0.149945\n",
      "[120]\tvalidation_0-error:0.599118\tvalidation_1-error:0.60522\tvalidation_0-gini:-0.292617\tvalidation_1-gini:-0.150013\n",
      "Stopping. Best iteration:\n",
      "[114]\tvalidation_0-error:0.603879\tvalidation_1-error:0.609652\tvalidation_0-gini:-0.289636\tvalidation_1-gini:-0.150356\n",
      "\n",
      "[0]\tvalidation_0-error:0.647773\tvalidation_1-error:0.648821\tvalidation_0-gini:-0.119566\tvalidation_1-gini:-0.091993\n",
      "Multiple eval metrics have been passed: 'validation_1-gini' will be used for early stopping.\n",
      "\n",
      "Will train until validation_1-gini hasn't improved in 10 rounds.\n",
      "[10]\tvalidation_0-error:0.690608\tvalidation_1-error:0.69293\tvalidation_0-gini:-0.167874\tvalidation_1-gini:-0.11219\n",
      "[20]\tvalidation_0-error:0.65503\tvalidation_1-error:0.657201\tvalidation_0-gini:-0.186126\tvalidation_1-gini:-0.122606\n",
      "[30]\tvalidation_0-error:0.648535\tvalidation_1-error:0.651281\tvalidation_0-gini:-0.200807\tvalidation_1-gini:-0.126763\n",
      "[40]\tvalidation_0-error:0.639187\tvalidation_1-error:0.642625\tvalidation_0-gini:-0.214161\tvalidation_1-gini:-0.130789\n",
      "[50]\tvalidation_0-error:0.627161\tvalidation_1-error:0.631184\tvalidation_0-gini:-0.223965\tvalidation_1-gini:-0.134234\n",
      "[60]\tvalidation_0-error:0.623129\tvalidation_1-error:0.628075\tvalidation_0-gini:-0.236866\tvalidation_1-gini:-0.135509\n",
      "[70]\tvalidation_0-error:0.612478\tvalidation_1-error:0.618069\tvalidation_0-gini:-0.244852\tvalidation_1-gini:-0.137074\n",
      "[80]\tvalidation_0-error:0.600055\tvalidation_1-error:0.605478\tvalidation_0-gini:-0.254941\tvalidation_1-gini:-0.139646\n",
      "[90]\tvalidation_0-error:0.594054\tvalidation_1-error:0.600028\tvalidation_0-gini:-0.261678\tvalidation_1-gini:-0.140033\n"
     ]
    },
    {
     "ename": "KeyboardInterrupt",
     "evalue": "",
     "output_type": "error",
     "traceback": [
      "\u001b[0;31m---------------------------------------------------------------------------\u001b[0m",
      "\u001b[0;31mKeyboardInterrupt\u001b[0m                         Traceback (most recent call last)",
      "\u001b[0;32m<ipython-input-97-ca46a436c22e>\u001b[0m in \u001b[0;36m<module>\u001b[0;34m()\u001b[0m\n\u001b[1;32m      7\u001b[0m             \u001b[0meval_metric\u001b[0m\u001b[0;34m=\u001b[0m\u001b[0mgini_coefficient\u001b[0m\u001b[0;34m,\u001b[0m\u001b[0;34m\u001b[0m\u001b[0m\n\u001b[1;32m      8\u001b[0m             \u001b[0mearly_stopping_rounds\u001b[0m\u001b[0;34m=\u001b[0m\u001b[0;36m10\u001b[0m\u001b[0;34m,\u001b[0m\u001b[0;34m\u001b[0m\u001b[0m\n\u001b[0;32m----> 9\u001b[0;31m             verbose=10)\n\u001b[0m",
      "\u001b[0;32m/Users/guoli/.local/lib/python2.7/site-packages/xgboost-0.6-py2.7.egg/xgboost/sklearn.pyc\u001b[0m in \u001b[0;36mfit\u001b[0;34m(self, X, y, sample_weight, eval_set, eval_metric, early_stopping_rounds, verbose)\u001b[0m\n\u001b[1;32m    462\u001b[0m                               \u001b[0mearly_stopping_rounds\u001b[0m\u001b[0;34m=\u001b[0m\u001b[0mearly_stopping_rounds\u001b[0m\u001b[0;34m,\u001b[0m\u001b[0;34m\u001b[0m\u001b[0m\n\u001b[1;32m    463\u001b[0m                               \u001b[0mevals_result\u001b[0m\u001b[0;34m=\u001b[0m\u001b[0mevals_result\u001b[0m\u001b[0;34m,\u001b[0m \u001b[0mobj\u001b[0m\u001b[0;34m=\u001b[0m\u001b[0mobj\u001b[0m\u001b[0;34m,\u001b[0m \u001b[0mfeval\u001b[0m\u001b[0;34m=\u001b[0m\u001b[0mfeval\u001b[0m\u001b[0;34m,\u001b[0m\u001b[0;34m\u001b[0m\u001b[0m\n\u001b[0;32m--> 464\u001b[0;31m                               verbose_eval=verbose)\n\u001b[0m\u001b[1;32m    465\u001b[0m \u001b[0;34m\u001b[0m\u001b[0m\n\u001b[1;32m    466\u001b[0m         \u001b[0mself\u001b[0m\u001b[0;34m.\u001b[0m\u001b[0mobjective\u001b[0m \u001b[0;34m=\u001b[0m \u001b[0mxgb_options\u001b[0m\u001b[0;34m[\u001b[0m\u001b[0;34m\"objective\"\u001b[0m\u001b[0;34m]\u001b[0m\u001b[0;34m\u001b[0m\u001b[0m\n",
      "\u001b[0;32m/Users/guoli/.local/lib/python2.7/site-packages/xgboost-0.6-py2.7.egg/xgboost/training.pyc\u001b[0m in \u001b[0;36mtrain\u001b[0;34m(params, dtrain, num_boost_round, evals, obj, feval, maximize, early_stopping_rounds, evals_result, verbose_eval, xgb_model, callbacks, learning_rates)\u001b[0m\n\u001b[1;32m    202\u001b[0m                            \u001b[0mevals\u001b[0m\u001b[0;34m=\u001b[0m\u001b[0mevals\u001b[0m\u001b[0;34m,\u001b[0m\u001b[0;34m\u001b[0m\u001b[0m\n\u001b[1;32m    203\u001b[0m                            \u001b[0mobj\u001b[0m\u001b[0;34m=\u001b[0m\u001b[0mobj\u001b[0m\u001b[0;34m,\u001b[0m \u001b[0mfeval\u001b[0m\u001b[0;34m=\u001b[0m\u001b[0mfeval\u001b[0m\u001b[0;34m,\u001b[0m\u001b[0;34m\u001b[0m\u001b[0m\n\u001b[0;32m--> 204\u001b[0;31m                            xgb_model=xgb_model, callbacks=callbacks)\n\u001b[0m\u001b[1;32m    205\u001b[0m \u001b[0;34m\u001b[0m\u001b[0m\n\u001b[1;32m    206\u001b[0m \u001b[0;34m\u001b[0m\u001b[0m\n",
      "\u001b[0;32m/Users/guoli/.local/lib/python2.7/site-packages/xgboost-0.6-py2.7.egg/xgboost/training.pyc\u001b[0m in \u001b[0;36m_train_internal\u001b[0;34m(params, dtrain, num_boost_round, evals, obj, feval, xgb_model, callbacks)\u001b[0m\n\u001b[1;32m     72\u001b[0m         \u001b[0;31m# Skip the first update if it is a recovery step.\u001b[0m\u001b[0;34m\u001b[0m\u001b[0;34m\u001b[0m\u001b[0m\n\u001b[1;32m     73\u001b[0m         \u001b[0;32mif\u001b[0m \u001b[0mversion\u001b[0m \u001b[0;34m%\u001b[0m \u001b[0;36m2\u001b[0m \u001b[0;34m==\u001b[0m \u001b[0;36m0\u001b[0m\u001b[0;34m:\u001b[0m\u001b[0;34m\u001b[0m\u001b[0m\n\u001b[0;32m---> 74\u001b[0;31m             \u001b[0mbst\u001b[0m\u001b[0;34m.\u001b[0m\u001b[0mupdate\u001b[0m\u001b[0;34m(\u001b[0m\u001b[0mdtrain\u001b[0m\u001b[0;34m,\u001b[0m \u001b[0mi\u001b[0m\u001b[0;34m,\u001b[0m \u001b[0mobj\u001b[0m\u001b[0;34m)\u001b[0m\u001b[0;34m\u001b[0m\u001b[0m\n\u001b[0m\u001b[1;32m     75\u001b[0m             \u001b[0mbst\u001b[0m\u001b[0;34m.\u001b[0m\u001b[0msave_rabit_checkpoint\u001b[0m\u001b[0;34m(\u001b[0m\u001b[0;34m)\u001b[0m\u001b[0;34m\u001b[0m\u001b[0m\n\u001b[1;32m     76\u001b[0m             \u001b[0mversion\u001b[0m \u001b[0;34m+=\u001b[0m \u001b[0;36m1\u001b[0m\u001b[0;34m\u001b[0m\u001b[0m\n",
      "\u001b[0;32m/Users/guoli/.local/lib/python2.7/site-packages/xgboost-0.6-py2.7.egg/xgboost/core.pyc\u001b[0m in \u001b[0;36mupdate\u001b[0;34m(self, dtrain, iteration, fobj)\u001b[0m\n\u001b[1;32m    817\u001b[0m \u001b[0;34m\u001b[0m\u001b[0m\n\u001b[1;32m    818\u001b[0m         \u001b[0;32mif\u001b[0m \u001b[0mfobj\u001b[0m \u001b[0;32mis\u001b[0m \u001b[0mNone\u001b[0m\u001b[0;34m:\u001b[0m\u001b[0;34m\u001b[0m\u001b[0m\n\u001b[0;32m--> 819\u001b[0;31m             \u001b[0m_check_call\u001b[0m\u001b[0;34m(\u001b[0m\u001b[0m_LIB\u001b[0m\u001b[0;34m.\u001b[0m\u001b[0mXGBoosterUpdateOneIter\u001b[0m\u001b[0;34m(\u001b[0m\u001b[0mself\u001b[0m\u001b[0;34m.\u001b[0m\u001b[0mhandle\u001b[0m\u001b[0;34m,\u001b[0m \u001b[0miteration\u001b[0m\u001b[0;34m,\u001b[0m \u001b[0mdtrain\u001b[0m\u001b[0;34m.\u001b[0m\u001b[0mhandle\u001b[0m\u001b[0;34m)\u001b[0m\u001b[0;34m)\u001b[0m\u001b[0;34m\u001b[0m\u001b[0m\n\u001b[0m\u001b[1;32m    820\u001b[0m         \u001b[0;32melse\u001b[0m\u001b[0;34m:\u001b[0m\u001b[0;34m\u001b[0m\u001b[0m\n\u001b[1;32m    821\u001b[0m             \u001b[0mpred\u001b[0m \u001b[0;34m=\u001b[0m \u001b[0mself\u001b[0m\u001b[0;34m.\u001b[0m\u001b[0mpredict\u001b[0m\u001b[0;34m(\u001b[0m\u001b[0mdtrain\u001b[0m\u001b[0;34m)\u001b[0m\u001b[0;34m\u001b[0m\u001b[0m\n",
      "\u001b[0;31mKeyboardInterrupt\u001b[0m: "
     ]
    }
   ],
   "source": [
    "kf = KFold(n_splits=2)\n",
    "for train_index, test_index in kf.split(new_X):\n",
    "    train_X, test_X = new_X[train_index], new_X[test_index]\n",
    "    train_y, test_y = y[train_index], y[test_index]\n",
    "    xgb.fit(train_X, train_y, \n",
    "            eval_set=[(train_X,train_y),(test_X,test_y)], \n",
    "            eval_metric=gini_coefficient,\n",
    "            early_stopping_rounds=10,\n",
    "            verbose=10)"
   ]
  },
  {
   "cell_type": "code",
   "execution_count": null,
   "metadata": {
    "collapsed": true
   },
   "outputs": [],
   "source": [
    "# this is your initial model\n",
    "model = Sequential()\n",
    "model.add(Dense(20, 64, init='uniform'))\n",
    "model.add(Activation('tanh'))\n",
    "model.add(Dense(64, 1, init='uniform'))\n",
    "model.add(Activation('softmax'))\n",
    "\n",
    "# we train it\n",
    "model.compile(loss='mse', optimizer='sgd')\n",
    "model.fit(X_train, y_train, nb_epoch=20, batch_size=16)\n",
    "\n",
    "# we build a new model with the activations of the old model\n",
    "# this model is truncated after the first layer\n",
    "model2 = Sequential()\n",
    "model2.add(Dense(20, 64, weights=model.layers[0].get_weights()))\n",
    "model2.add(Activation('tanh'))\n",
    "\n",
    "activations = model2._predict(X_batch)"
   ]
  }
 ],
 "metadata": {
  "kernelspec": {
   "display_name": "Python 2",
   "language": "python",
   "name": "python2"
  },
  "language_info": {
   "codemirror_mode": {
    "name": "ipython",
    "version": 2
   },
   "file_extension": ".py",
   "mimetype": "text/x-python",
   "name": "python",
   "nbconvert_exporter": "python",
   "pygments_lexer": "ipython2",
   "version": "2.7.13"
  }
 },
 "nbformat": 4,
 "nbformat_minor": 2
}
