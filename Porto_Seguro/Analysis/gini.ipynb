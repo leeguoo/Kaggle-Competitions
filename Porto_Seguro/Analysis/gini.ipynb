{
 "cells": [
  {
   "cell_type": "code",
   "execution_count": 30,
   "metadata": {
    "collapsed": false
   },
   "outputs": [
    {
     "name": "stdout",
     "output_type": "stream",
     "text": [
      "0.25\n",
      "0.25\n",
      "0.125\n",
      "0.0\n",
      "-0.25\n"
     ]
    }
   ],
   "source": [
    "import numpy as np\n",
    "def gini(actual, pred, cmpcol = 0, sortcol = 1):\n",
    "    assert( len(actual) == len(pred) )\n",
    "    all = np.asarray(np.c_[ actual, pred, np.arange(len(actual)) ], dtype=np.float)\n",
    "    all = all[ np.lexsort((all[:,2], -1*all[:,1])) ]\n",
    "    totalLosses = all[:,0].sum()\n",
    "    giniSum = all[:,0].cumsum().sum() / totalLosses\n",
    " \n",
    "    giniSum -= (len(actual) + 1) / 2.\n",
    "    return giniSum / len(actual)\n",
    "\n",
    "\n",
    "print gini([1,0,1,0],[0.7,0.2,0.8,0.3])\n",
    "print gini([1,0,1,0],[1,0,1,0])\n",
    "print gini([1,0,1,0],[0.5,0.5,0.5,0.5])\n",
    "print gini([1,0,1,0],[0.2,0.7,0.8,0.5])\n",
    "print gini([1,0,1,0],[0,1,0,1])"
   ]
  },
  {
   "cell_type": "code",
   "execution_count": 13,
   "metadata": {
    "collapsed": false
   },
   "outputs": [
    {
     "name": "stdout",
     "output_type": "stream",
     "text": [
      "[[ 1.   0.7  0. ]\n",
      " [ 0.   0.2  1. ]\n",
      " [ 1.   0.8  2. ]\n",
      " [ 0.   0.3  3. ]]\n",
      "[[ 1.   0.8  2. ]\n",
      " [ 1.   0.7  0. ]\n",
      " [ 0.   0.3  3. ]\n",
      " [ 0.   0.2  1. ]]\n",
      "2.0\n",
      "3.5\n",
      "0.25\n",
      "[[ 1.  1.  0.]\n",
      " [ 0.  0.  1.]\n",
      " [ 1.  1.  2.]\n",
      " [ 0.  0.  3.]]\n",
      "[[ 1.  1.  0.]\n",
      " [ 1.  1.  2.]\n",
      " [ 0.  0.  1.]\n",
      " [ 0.  0.  3.]]\n",
      "2.0\n",
      "3.5\n",
      "0.25\n",
      "[[ 1.   0.5  0. ]\n",
      " [ 0.   0.5  1. ]\n",
      " [ 1.   0.5  2. ]\n",
      " [ 0.   0.5  3. ]]\n",
      "[[ 1.   0.5  0. ]\n",
      " [ 0.   0.5  1. ]\n",
      " [ 1.   0.5  2. ]\n",
      " [ 0.   0.5  3. ]]\n",
      "2.0\n",
      "3.0\n",
      "0.125\n",
      "[[ 1.   0.2  0. ]\n",
      " [ 0.   0.7  1. ]\n",
      " [ 1.   0.8  2. ]\n",
      " [ 0.   0.5  3. ]]\n",
      "[[ 1.   0.8  2. ]\n",
      " [ 0.   0.7  1. ]\n",
      " [ 0.   0.5  3. ]\n",
      " [ 1.   0.2  0. ]]\n",
      "2.0\n",
      "2.5\n",
      "0.0\n",
      "[[ 1.  0.  0.]\n",
      " [ 0.  1.  1.]\n",
      " [ 1.  0.  2.]\n",
      " [ 0.  1.  3.]]\n",
      "[[ 0.  1.  1.]\n",
      " [ 0.  1.  3.]\n",
      " [ 1.  0.  0.]\n",
      " [ 1.  0.  2.]]\n",
      "2.0\n",
      "1.5\n",
      "-0.25\n"
     ]
    }
   ],
   "source": [
    "import numpy as np\n",
    "def gini(actual, pred, cmpcol = 0, sortcol = 1):\n",
    "    assert( len(actual) == len(pred) )\n",
    "    all = np.asarray(np.c_[ actual, pred, np.arange(len(actual)) ], dtype=np.float)\n",
    "    print all\n",
    "    all = all[ np.lexsort((all[:,2], -1*all[:,1])) ]\n",
    "    print all\n",
    "    totalLosses = all[:,0].sum()\n",
    "    print totalLosses\n",
    "    giniSum = all[:,0].cumsum().sum() / totalLosses\n",
    "    print giniSum\n",
    " \n",
    "    giniSum -= (len(actual) + 1) / 2.\n",
    "    return giniSum / len(actual)\n",
    "\n",
    "\n",
    "print gini([1,0,1,0],[0.7,0.2,0.8,0.3])\n",
    "print gini([1,0,1,0],[1,0,1,0])\n",
    "print gini([1,0,1,0],[0.5,0.5,0.5,0.5])\n",
    "print gini([1,0,1,0],[0.2,0.7,0.8,0.5])\n",
    "print gini([1,0,1,0],[0,1,0,1])"
   ]
  },
  {
   "cell_type": "code",
   "execution_count": 29,
   "metadata": {
    "collapsed": false
   },
   "outputs": [
    {
     "name": "stdout",
     "output_type": "stream",
     "text": [
      "0.25\n",
      "0.25\n",
      "0.125\n",
      "0.0\n",
      "-0.25\n"
     ]
    }
   ],
   "source": [
    "import numpy as np\n",
    "import pandas as pd\n",
    "def gini(actual, pred):\n",
    "    df = pd.DataFrame({'actual':actual,'pred':pred})\\\n",
    "            .reset_index()\\\n",
    "            .sort_values(['pred','index'],ascending=[False,True])\\\n",
    "            .astype('float')\n",
    "    \n",
    "    ginisum = df[\"actual\"].cumsum().sum()/df[\"actual\"].sum()\n",
    "    ginisum -= (len(df)+1.)/2\n",
    "    \n",
    "    return ginisum/len(actual)\n",
    "    \n",
    "\n",
    "\n",
    "print gini([1,0,1,0],[0.7,0.2,0.8,0.3])\n",
    "print gini([1,0,1,0],[1,0,1,0])\n",
    "print gini([1,0,1,0],[0.5,0.5,0.5,0.5])\n",
    "print gini([1,0,1,0],[0.2,0.7,0.8,0.5])\n",
    "print gini([1,0,1,0],[0,1,0,1])"
   ]
  },
  {
   "cell_type": "code",
   "execution_count": 31,
   "metadata": {
    "collapsed": true
   },
   "outputs": [],
   "source": [
    "from keras import backend as K"
   ]
  },
  {
   "cell_type": "code",
   "execution_count": 40,
   "metadata": {
    "collapsed": true
   },
   "outputs": [],
   "source": [
    "a = np.array([1,0,1,0])\n",
    "b = np.array([0.7,0.2,0.8,0.3])"
   ]
  },
  {
   "cell_type": "code",
   "execution_count": 43,
   "metadata": {
    "collapsed": false
   },
   "outputs": [
    {
     "name": "stdout",
     "output_type": "stream",
     "text": [
      "[ 1.  0.  1.  0.] [ 0.69999999  0.2         0.80000001  0.30000001]\n"
     ]
    }
   ],
   "source": [
    "actual = K.cast_to_floatx(a)\n",
    "pred = K.cast_to_floatx(b)\n",
    "print actual, pred"
   ]
  },
  {
   "cell_type": "code",
   "execution_count": 54,
   "metadata": {
    "collapsed": false
   },
   "outputs": [
    {
     "data": {
      "text/plain": [
       "array([[ 1.        ,  0.69999999,  0.        ],\n",
       "       [ 0.        ,  0.2       ,  1.        ],\n",
       "       [ 1.        ,  0.80000001,  2.        ],\n",
       "       [ 0.        ,  0.30000001,  3.        ]], dtype=float32)"
      ]
     },
     "execution_count": 54,
     "metadata": {},
     "output_type": "execute_result"
    }
   ],
   "source": [
    "ind = K.cast_to_floatx(range(len(actual)))\n",
    "\n",
    "m = K.cast_to_floatx(np.asarray([actual,pred,range(len(actual))]).T)\n",
    "m"
   ]
  },
  {
   "cell_type": "code",
   "execution_count": null,
   "metadata": {
    "collapsed": true
   },
   "outputs": [],
   "source": [
    "K."
   ]
  },
  {
   "cell_type": "code",
   "execution_count": null,
   "metadata": {
    "collapsed": true
   },
   "outputs": [],
   "source": [
    "def gini(actual, pred):\n",
    "    assert( len(actual) == len(pred) )\n",
    "    all = np.asarray(np.c_[ actual, pred, np.arange(len(actual)) ], dtype=np.float)\n",
    "    print all\n",
    "    all = all[ np.lexsort((all[:,2], -1*all[:,1])) ]\n",
    "    print all\n",
    "    totalLosses = all[:,0].sum()\n",
    "    print totalLosses\n",
    "    giniSum = all[:,0].cumsum().sum() / totalLosses\n",
    "    print giniSum\n",
    " \n",
    "    giniSum -= (len(actual) + 1) / 2.\n",
    "    return giniSum / len(actual)"
   ]
  }
 ],
 "metadata": {
  "kernelspec": {
   "display_name": "Python 2",
   "language": "python",
   "name": "python2"
  },
  "language_info": {
   "codemirror_mode": {
    "name": "ipython",
    "version": 2
   },
   "file_extension": ".py",
   "mimetype": "text/x-python",
   "name": "python",
   "nbconvert_exporter": "python",
   "pygments_lexer": "ipython2",
   "version": "2.7.13"
  }
 },
 "nbformat": 4,
 "nbformat_minor": 2
}
