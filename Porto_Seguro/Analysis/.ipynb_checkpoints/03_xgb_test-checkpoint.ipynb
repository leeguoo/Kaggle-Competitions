{
 "cells": [
  {
   "cell_type": "code",
   "execution_count": 2,
   "metadata": {
    "collapsed": true
   },
   "outputs": [],
   "source": [
    "import pandas as pd\n",
    "import numpy as np\n",
    "import matplotlib.pylab as plt\n",
    "\n",
    "%matplotlib inline"
   ]
  },
  {
   "cell_type": "code",
   "execution_count": null,
   "metadata": {
    "collapsed": true
   },
   "outputs": [],
   "source": [
    "path = '~/Desktop/kaggle/Porto/'"
   ]
  },
  {
   "cell_type": "markdown",
   "metadata": {},
   "source": [
    "# 1. Read Code"
   ]
  },
  {
   "cell_type": "code",
   "execution_count": 3,
   "metadata": {
    "collapsed": false
   },
   "outputs": [
    {
     "ename": "IOError",
     "evalue": "File train.csv does not exist",
     "output_type": "error",
     "traceback": [
      "\u001b[0;31m---------------------------------------------------------------------------\u001b[0m",
      "\u001b[0;31mIOError\u001b[0m                                   Traceback (most recent call last)",
      "\u001b[0;32m<ipython-input-3-8d427aebea6a>\u001b[0m in \u001b[0;36m<module>\u001b[0;34m()\u001b[0m\n\u001b[0;32m----> 1\u001b[0;31m \u001b[0mdf\u001b[0m \u001b[0;34m=\u001b[0m \u001b[0mpd\u001b[0m\u001b[0;34m.\u001b[0m\u001b[0mread_csv\u001b[0m\u001b[0;34m(\u001b[0m\u001b[0;34m'train.csv'\u001b[0m\u001b[0;34m,\u001b[0m\u001b[0mindex_col\u001b[0m\u001b[0;34m=\u001b[0m\u001b[0;34m'id'\u001b[0m\u001b[0;34m)\u001b[0m\u001b[0;31m#,nrows=100000)\u001b[0m\u001b[0;34m\u001b[0m\u001b[0m\n\u001b[0m",
      "\u001b[0;32m/Users/guoli/anaconda2/lib/python2.7/site-packages/pandas/io/parsers.pyc\u001b[0m in \u001b[0;36mparser_f\u001b[0;34m(filepath_or_buffer, sep, delimiter, header, names, index_col, usecols, squeeze, prefix, mangle_dupe_cols, dtype, engine, converters, true_values, false_values, skipinitialspace, skiprows, nrows, na_values, keep_default_na, na_filter, verbose, skip_blank_lines, parse_dates, infer_datetime_format, keep_date_col, date_parser, dayfirst, iterator, chunksize, compression, thousands, decimal, lineterminator, quotechar, quoting, escapechar, comment, encoding, dialect, tupleize_cols, error_bad_lines, warn_bad_lines, skipfooter, skip_footer, doublequote, delim_whitespace, as_recarray, compact_ints, use_unsigned, low_memory, buffer_lines, memory_map, float_precision)\u001b[0m\n\u001b[1;32m    644\u001b[0m                     skip_blank_lines=skip_blank_lines)\n\u001b[1;32m    645\u001b[0m \u001b[0;34m\u001b[0m\u001b[0m\n\u001b[0;32m--> 646\u001b[0;31m         \u001b[0;32mreturn\u001b[0m \u001b[0m_read\u001b[0m\u001b[0;34m(\u001b[0m\u001b[0mfilepath_or_buffer\u001b[0m\u001b[0;34m,\u001b[0m \u001b[0mkwds\u001b[0m\u001b[0;34m)\u001b[0m\u001b[0;34m\u001b[0m\u001b[0m\n\u001b[0m\u001b[1;32m    647\u001b[0m \u001b[0;34m\u001b[0m\u001b[0m\n\u001b[1;32m    648\u001b[0m     \u001b[0mparser_f\u001b[0m\u001b[0;34m.\u001b[0m\u001b[0m__name__\u001b[0m \u001b[0;34m=\u001b[0m \u001b[0mname\u001b[0m\u001b[0;34m\u001b[0m\u001b[0m\n",
      "\u001b[0;32m/Users/guoli/anaconda2/lib/python2.7/site-packages/pandas/io/parsers.pyc\u001b[0m in \u001b[0;36m_read\u001b[0;34m(filepath_or_buffer, kwds)\u001b[0m\n\u001b[1;32m    387\u001b[0m \u001b[0;34m\u001b[0m\u001b[0m\n\u001b[1;32m    388\u001b[0m     \u001b[0;31m# Create the parser.\u001b[0m\u001b[0;34m\u001b[0m\u001b[0;34m\u001b[0m\u001b[0m\n\u001b[0;32m--> 389\u001b[0;31m     \u001b[0mparser\u001b[0m \u001b[0;34m=\u001b[0m \u001b[0mTextFileReader\u001b[0m\u001b[0;34m(\u001b[0m\u001b[0mfilepath_or_buffer\u001b[0m\u001b[0;34m,\u001b[0m \u001b[0;34m**\u001b[0m\u001b[0mkwds\u001b[0m\u001b[0;34m)\u001b[0m\u001b[0;34m\u001b[0m\u001b[0m\n\u001b[0m\u001b[1;32m    390\u001b[0m \u001b[0;34m\u001b[0m\u001b[0m\n\u001b[1;32m    391\u001b[0m     \u001b[0;32mif\u001b[0m \u001b[0;34m(\u001b[0m\u001b[0mnrows\u001b[0m \u001b[0;32mis\u001b[0m \u001b[0;32mnot\u001b[0m \u001b[0mNone\u001b[0m\u001b[0;34m)\u001b[0m \u001b[0;32mand\u001b[0m \u001b[0;34m(\u001b[0m\u001b[0mchunksize\u001b[0m \u001b[0;32mis\u001b[0m \u001b[0;32mnot\u001b[0m \u001b[0mNone\u001b[0m\u001b[0;34m)\u001b[0m\u001b[0;34m:\u001b[0m\u001b[0;34m\u001b[0m\u001b[0m\n",
      "\u001b[0;32m/Users/guoli/anaconda2/lib/python2.7/site-packages/pandas/io/parsers.pyc\u001b[0m in \u001b[0;36m__init__\u001b[0;34m(self, f, engine, **kwds)\u001b[0m\n\u001b[1;32m    728\u001b[0m             \u001b[0mself\u001b[0m\u001b[0;34m.\u001b[0m\u001b[0moptions\u001b[0m\u001b[0;34m[\u001b[0m\u001b[0;34m'has_index_names'\u001b[0m\u001b[0;34m]\u001b[0m \u001b[0;34m=\u001b[0m \u001b[0mkwds\u001b[0m\u001b[0;34m[\u001b[0m\u001b[0;34m'has_index_names'\u001b[0m\u001b[0;34m]\u001b[0m\u001b[0;34m\u001b[0m\u001b[0m\n\u001b[1;32m    729\u001b[0m \u001b[0;34m\u001b[0m\u001b[0m\n\u001b[0;32m--> 730\u001b[0;31m         \u001b[0mself\u001b[0m\u001b[0;34m.\u001b[0m\u001b[0m_make_engine\u001b[0m\u001b[0;34m(\u001b[0m\u001b[0mself\u001b[0m\u001b[0;34m.\u001b[0m\u001b[0mengine\u001b[0m\u001b[0;34m)\u001b[0m\u001b[0;34m\u001b[0m\u001b[0m\n\u001b[0m\u001b[1;32m    731\u001b[0m \u001b[0;34m\u001b[0m\u001b[0m\n\u001b[1;32m    732\u001b[0m     \u001b[0;32mdef\u001b[0m \u001b[0mclose\u001b[0m\u001b[0;34m(\u001b[0m\u001b[0mself\u001b[0m\u001b[0;34m)\u001b[0m\u001b[0;34m:\u001b[0m\u001b[0;34m\u001b[0m\u001b[0m\n",
      "\u001b[0;32m/Users/guoli/anaconda2/lib/python2.7/site-packages/pandas/io/parsers.pyc\u001b[0m in \u001b[0;36m_make_engine\u001b[0;34m(self, engine)\u001b[0m\n\u001b[1;32m    921\u001b[0m     \u001b[0;32mdef\u001b[0m \u001b[0m_make_engine\u001b[0m\u001b[0;34m(\u001b[0m\u001b[0mself\u001b[0m\u001b[0;34m,\u001b[0m \u001b[0mengine\u001b[0m\u001b[0;34m=\u001b[0m\u001b[0;34m'c'\u001b[0m\u001b[0;34m)\u001b[0m\u001b[0;34m:\u001b[0m\u001b[0;34m\u001b[0m\u001b[0m\n\u001b[1;32m    922\u001b[0m         \u001b[0;32mif\u001b[0m \u001b[0mengine\u001b[0m \u001b[0;34m==\u001b[0m \u001b[0;34m'c'\u001b[0m\u001b[0;34m:\u001b[0m\u001b[0;34m\u001b[0m\u001b[0m\n\u001b[0;32m--> 923\u001b[0;31m             \u001b[0mself\u001b[0m\u001b[0;34m.\u001b[0m\u001b[0m_engine\u001b[0m \u001b[0;34m=\u001b[0m \u001b[0mCParserWrapper\u001b[0m\u001b[0;34m(\u001b[0m\u001b[0mself\u001b[0m\u001b[0;34m.\u001b[0m\u001b[0mf\u001b[0m\u001b[0;34m,\u001b[0m \u001b[0;34m**\u001b[0m\u001b[0mself\u001b[0m\u001b[0;34m.\u001b[0m\u001b[0moptions\u001b[0m\u001b[0;34m)\u001b[0m\u001b[0;34m\u001b[0m\u001b[0m\n\u001b[0m\u001b[1;32m    924\u001b[0m         \u001b[0;32melse\u001b[0m\u001b[0;34m:\u001b[0m\u001b[0;34m\u001b[0m\u001b[0m\n\u001b[1;32m    925\u001b[0m             \u001b[0;32mif\u001b[0m \u001b[0mengine\u001b[0m \u001b[0;34m==\u001b[0m \u001b[0;34m'python'\u001b[0m\u001b[0;34m:\u001b[0m\u001b[0;34m\u001b[0m\u001b[0m\n",
      "\u001b[0;32m/Users/guoli/anaconda2/lib/python2.7/site-packages/pandas/io/parsers.pyc\u001b[0m in \u001b[0;36m__init__\u001b[0;34m(self, src, **kwds)\u001b[0m\n\u001b[1;32m   1388\u001b[0m         \u001b[0mkwds\u001b[0m\u001b[0;34m[\u001b[0m\u001b[0;34m'allow_leading_cols'\u001b[0m\u001b[0;34m]\u001b[0m \u001b[0;34m=\u001b[0m \u001b[0mself\u001b[0m\u001b[0;34m.\u001b[0m\u001b[0mindex_col\u001b[0m \u001b[0;32mis\u001b[0m \u001b[0;32mnot\u001b[0m \u001b[0mFalse\u001b[0m\u001b[0;34m\u001b[0m\u001b[0m\n\u001b[1;32m   1389\u001b[0m \u001b[0;34m\u001b[0m\u001b[0m\n\u001b[0;32m-> 1390\u001b[0;31m         \u001b[0mself\u001b[0m\u001b[0;34m.\u001b[0m\u001b[0m_reader\u001b[0m \u001b[0;34m=\u001b[0m \u001b[0m_parser\u001b[0m\u001b[0;34m.\u001b[0m\u001b[0mTextReader\u001b[0m\u001b[0;34m(\u001b[0m\u001b[0msrc\u001b[0m\u001b[0;34m,\u001b[0m \u001b[0;34m**\u001b[0m\u001b[0mkwds\u001b[0m\u001b[0;34m)\u001b[0m\u001b[0;34m\u001b[0m\u001b[0m\n\u001b[0m\u001b[1;32m   1391\u001b[0m \u001b[0;34m\u001b[0m\u001b[0m\n\u001b[1;32m   1392\u001b[0m         \u001b[0;31m# XXX\u001b[0m\u001b[0;34m\u001b[0m\u001b[0;34m\u001b[0m\u001b[0m\n",
      "\u001b[0;32mpandas/parser.pyx\u001b[0m in \u001b[0;36mpandas.parser.TextReader.__cinit__ (pandas/parser.c:4184)\u001b[0;34m()\u001b[0m\n",
      "\u001b[0;32mpandas/parser.pyx\u001b[0m in \u001b[0;36mpandas.parser.TextReader._setup_parser_source (pandas/parser.c:8449)\u001b[0;34m()\u001b[0m\n",
      "\u001b[0;31mIOError\u001b[0m: File train.csv does not exist"
     ]
    }
   ],
   "source": [
    "df = pd.read_csv('train.csv',index_col='id')#,nrows=100000)"
   ]
  },
  {
   "cell_type": "code",
   "execution_count": null,
   "metadata": {
    "collapsed": true
   },
   "outputs": [],
   "source": [
    "df = df.reset_index(drop=True)"
   ]
  },
  {
   "cell_type": "code",
   "execution_count": 4,
   "metadata": {
    "collapsed": false
   },
   "outputs": [
    {
     "ename": "NameError",
     "evalue": "name 'df' is not defined",
     "output_type": "error",
     "traceback": [
      "\u001b[0;31m---------------------------------------------------------------------------\u001b[0m",
      "\u001b[0;31mNameError\u001b[0m                                 Traceback (most recent call last)",
      "\u001b[0;32m<ipython-input-4-2569c44faf66>\u001b[0m in \u001b[0;36m<module>\u001b[0;34m()\u001b[0m\n\u001b[0;32m----> 1\u001b[0;31m \u001b[0mdf\u001b[0m\u001b[0;34m.\u001b[0m\u001b[0mhead\u001b[0m\u001b[0;34m(\u001b[0m\u001b[0;34m)\u001b[0m\u001b[0;34m\u001b[0m\u001b[0m\n\u001b[0m",
      "\u001b[0;31mNameError\u001b[0m: name 'df' is not defined"
     ]
    }
   ],
   "source": [
    "df.head()"
   ]
  },
  {
   "cell_type": "markdown",
   "metadata": {},
   "source": [
    "# 2. Split features and Target"
   ]
  },
  {
   "cell_type": "code",
   "execution_count": 122,
   "metadata": {
    "collapsed": false
   },
   "outputs": [],
   "source": [
    "features = list(df.columns)\n",
    "target = 'target'\n",
    "features.remove(target)"
   ]
  },
  {
   "cell_type": "code",
   "execution_count": 123,
   "metadata": {
    "collapsed": false
   },
   "outputs": [],
   "source": [
    "X = np.array(df[features])\n",
    "y = df[target]"
   ]
  },
  {
   "cell_type": "markdown",
   "metadata": {},
   "source": [
    "# 3. Metirc Function"
   ]
  },
  {
   "cell_type": "code",
   "execution_count": 124,
   "metadata": {
    "collapsed": true
   },
   "outputs": [],
   "source": [
    "def gini(actual, pred, cmpcol = 0, sortcol = 1):\n",
    "    assert( len(actual) == len(pred) )\n",
    "    all = np.asarray(np.c_[ actual, pred, np.arange(len(actual)) ], dtype=np.float)\n",
    "    all = all[ np.lexsort((all[:,2], -1*all[:,1])) ]\n",
    "    totalLosses = all[:,0].sum()\n",
    "    giniSum = all[:,0].cumsum().sum() / totalLosses\n",
    " \n",
    "    giniSum -= (len(actual) + 1) / 2.\n",
    "    return giniSum / len(actual)\n",
    " \n",
    "def gini_normalized(a, p):\n",
    "    return gini(a, p) / gini(a, a)"
   ]
  },
  {
   "cell_type": "code",
   "execution_count": 125,
   "metadata": {
    "collapsed": true
   },
   "outputs": [],
   "source": [
    "def gini_coefficient(preds,dtrain):\n",
    "    y = dtrain.get_label()\n",
    "    return 'gini', -gini_normalized(y,preds)"
   ]
  },
  {
   "cell_type": "markdown",
   "metadata": {},
   "source": [
    "# 4. Xgboost"
   ]
  },
  {
   "cell_type": "code",
   "execution_count": 126,
   "metadata": {
    "collapsed": false
   },
   "outputs": [],
   "source": [
    "from sklearn.model_selection import KFold"
   ]
  },
  {
   "cell_type": "code",
   "execution_count": 1,
   "metadata": {
    "collapsed": true
   },
   "outputs": [],
   "source": [
    "from xgboost import XGBClassifier\n",
    "xgb = XGBClassifier(max_depth=7, \n",
    "                    learning_rate=0.05, \n",
    "                    n_estimators=1000, \n",
    "                    objective='binary:logistic', \n",
    "                    nthread=-1, \n",
    "                    gamma=0, \n",
    "                    subsample=0.8,\n",
    "                    colsample_bytree=0.8,  \n",
    "                    scale_pos_weight=30, \n",
    "                    missing=None)"
   ]
  },
  {
   "cell_type": "code",
   "execution_count": 210,
   "metadata": {
    "collapsed": false
   },
   "outputs": [
    {
     "name": "stdout",
     "output_type": "stream",
     "text": [
      "[0]\tvalidation_0-error:0.48501\tvalidation_1-error:0.489463\tvalidation_0-gini:-0.273471\tvalidation_1-gini:-0.201289\n",
      "Multiple eval metrics have been passed: 'validation_1-gini' will be used for early stopping.\n",
      "\n",
      "Will train until validation_1-gini hasn't improved in 10 rounds.\n",
      "[1]\tvalidation_0-error:0.530356\tvalidation_1-error:0.536495\tvalidation_0-gini:-0.30387\tvalidation_1-gini:-0.200661\n",
      "[2]\tvalidation_0-error:0.512396\tvalidation_1-error:0.519257\tvalidation_0-gini:-0.315815\tvalidation_1-gini:-0.212943\n",
      "[3]\tvalidation_0-error:0.51298\tvalidation_1-error:0.518632\tvalidation_0-gini:-0.322204\tvalidation_1-gini:-0.216519\n",
      "[4]\tvalidation_0-error:0.502171\tvalidation_1-error:0.509143\tvalidation_0-gini:-0.33534\tvalidation_1-gini:-0.222499\n",
      "[5]\tvalidation_0-error:0.506018\tvalidation_1-error:0.513148\tvalidation_0-gini:-0.337197\tvalidation_1-gini:-0.223039\n",
      "[6]\tvalidation_0-error:0.500064\tvalidation_1-error:0.506425\tvalidation_0-gini:-0.345068\tvalidation_1-gini:-0.228949\n",
      "[7]\tvalidation_0-error:0.502513\tvalidation_1-error:0.509254\tvalidation_0-gini:-0.346563\tvalidation_1-gini:-0.230709\n",
      "[8]\tvalidation_0-error:0.498333\tvalidation_1-error:0.504896\tvalidation_0-gini:-0.349666\tvalidation_1-gini:-0.233962\n",
      "[9]\tvalidation_0-error:0.494523\tvalidation_1-error:0.50129\tvalidation_0-gini:-0.352882\tvalidation_1-gini:-0.233592\n",
      "[10]\tvalidation_0-error:0.49248\tvalidation_1-error:0.498878\tvalidation_0-gini:-0.356241\tvalidation_1-gini:-0.23546\n",
      "[11]\tvalidation_0-error:0.489624\tvalidation_1-error:0.496485\tvalidation_0-gini:-0.357955\tvalidation_1-gini:-0.234507\n",
      "[12]\tvalidation_0-error:0.486432\tvalidation_1-error:0.49337\tvalidation_0-gini:-0.360741\tvalidation_1-gini:-0.235486\n",
      "[13]\tvalidation_0-error:0.486418\tvalidation_1-error:0.492312\tvalidation_0-gini:-0.365347\tvalidation_1-gini:-0.236627\n",
      "[14]\tvalidation_0-error:0.486123\tvalidation_1-error:0.491966\tvalidation_0-gini:-0.368613\tvalidation_1-gini:-0.237118\n",
      "[15]\tvalidation_0-error:0.483566\tvalidation_1-error:0.489278\tvalidation_0-gini:-0.372099\tvalidation_1-gini:-0.237349\n",
      "[16]\tvalidation_0-error:0.482423\tvalidation_1-error:0.488545\tvalidation_0-gini:-0.376847\tvalidation_1-gini:-0.239612\n",
      "[17]\tvalidation_0-error:0.480545\tvalidation_1-error:0.486254\tvalidation_0-gini:-0.378408\tvalidation_1-gini:-0.240076\n",
      "[18]\tvalidation_0-error:0.479577\tvalidation_1-error:0.485461\tvalidation_0-gini:-0.383098\tvalidation_1-gini:-0.241716\n",
      "[19]\tvalidation_0-error:0.478952\tvalidation_1-error:0.48544\tvalidation_0-gini:-0.386168\tvalidation_1-gini:-0.243308\n",
      "[20]\tvalidation_0-error:0.478189\tvalidation_1-error:0.484463\tvalidation_0-gini:-0.389144\tvalidation_1-gini:-0.243513\n",
      "[21]\tvalidation_0-error:0.477017\tvalidation_1-error:0.483004\tvalidation_0-gini:-0.391571\tvalidation_1-gini:-0.244246\n",
      "[22]\tvalidation_0-error:0.475552\tvalidation_1-error:0.482137\tvalidation_0-gini:-0.393961\tvalidation_1-gini:-0.245109\n",
      "[23]\tvalidation_0-error:0.473129\tvalidation_1-error:0.480111\tvalidation_0-gini:-0.397796\tvalidation_1-gini:-0.245278\n",
      "[24]\tvalidation_0-error:0.471566\tvalidation_1-error:0.478623\tvalidation_0-gini:-0.399553\tvalidation_1-gini:-0.245378\n",
      "[25]\tvalidation_0-error:0.470545\tvalidation_1-error:0.47782\tvalidation_0-gini:-0.402228\tvalidation_1-gini:-0.245928\n",
      "[26]\tvalidation_0-error:0.468821\tvalidation_1-error:0.476022\tvalidation_0-gini:-0.405764\tvalidation_1-gini:-0.246724\n",
      "[27]\tvalidation_0-error:0.467081\tvalidation_1-error:0.474722\tvalidation_0-gini:-0.408715\tvalidation_1-gini:-0.247269\n",
      "[28]\tvalidation_0-error:0.464675\tvalidation_1-error:0.47204\tvalidation_0-gini:-0.410434\tvalidation_1-gini:-0.247372\n",
      "[29]\tvalidation_0-error:0.464453\tvalidation_1-error:0.471674\tvalidation_0-gini:-0.412145\tvalidation_1-gini:-0.247662\n",
      "[30]\tvalidation_0-error:0.462135\tvalidation_1-error:0.469564\tvalidation_0-gini:-0.414533\tvalidation_1-gini:-0.248001\n",
      "[31]\tvalidation_0-error:0.460323\tvalidation_1-error:0.467823\tvalidation_0-gini:-0.416506\tvalidation_1-gini:-0.248461\n",
      "[32]\tvalidation_0-error:0.459083\tvalidation_1-error:0.467114\tvalidation_0-gini:-0.419242\tvalidation_1-gini:-0.24834\n",
      "[33]\tvalidation_0-error:0.458143\tvalidation_1-error:0.466234\tvalidation_0-gini:-0.421943\tvalidation_1-gini:-0.248694\n",
      "[34]\tvalidation_0-error:0.455357\tvalidation_1-error:0.463603\tvalidation_0-gini:-0.424306\tvalidation_1-gini:-0.248681\n",
      "[35]\tvalidation_0-error:0.453617\tvalidation_1-error:0.462333\tvalidation_0-gini:-0.427068\tvalidation_1-gini:-0.2489\n",
      "[36]\tvalidation_0-error:0.451214\tvalidation_1-error:0.459792\tvalidation_0-gini:-0.429541\tvalidation_1-gini:-0.249309\n",
      "[37]\tvalidation_0-error:0.449857\tvalidation_1-error:0.458771\tvalidation_0-gini:-0.430912\tvalidation_1-gini:-0.249888\n",
      "[38]\tvalidation_0-error:0.448465\tvalidation_1-error:0.457521\tvalidation_0-gini:-0.433639\tvalidation_1-gini:-0.25005\n",
      "[39]\tvalidation_0-error:0.447152\tvalidation_1-error:0.45572\tvalidation_0-gini:-0.435614\tvalidation_1-gini:-0.250157\n",
      "[40]\tvalidation_0-error:0.446288\tvalidation_1-error:0.455327\tvalidation_0-gini:-0.437877\tvalidation_1-gini:-0.249704\n",
      "[41]\tvalidation_0-error:0.443681\tvalidation_1-error:0.453032\tvalidation_0-gini:-0.440725\tvalidation_1-gini:-0.250008\n",
      "[42]\tvalidation_0-error:0.442528\tvalidation_1-error:0.452067\tvalidation_0-gini:-0.443568\tvalidation_1-gini:-0.250023\n",
      "[43]\tvalidation_0-error:0.442155\tvalidation_1-error:0.4516\tvalidation_0-gini:-0.444899\tvalidation_1-gini:-0.249821\n",
      "[44]\tvalidation_0-error:0.439548\tvalidation_1-error:0.449413\tvalidation_0-gini:-0.447779\tvalidation_1-gini:-0.249883\n",
      "[45]\tvalidation_0-error:0.438335\tvalidation_1-error:0.44824\tvalidation_0-gini:-0.450263\tvalidation_1-gini:-0.249571\n",
      "[46]\tvalidation_0-error:0.437861\tvalidation_1-error:0.447373\tvalidation_0-gini:-0.451708\tvalidation_1-gini:-0.249571\n",
      "[47]\tvalidation_0-error:0.43729\tvalidation_1-error:0.447162\tvalidation_0-gini:-0.452985\tvalidation_1-gini:-0.249346\n",
      "[48]\tvalidation_0-error:0.435166\tvalidation_1-error:0.445203\tvalidation_0-gini:-0.456239\tvalidation_1-gini:-0.249733\n",
      "[49]\tvalidation_0-error:0.434144\tvalidation_1-error:0.444346\tvalidation_0-gini:-0.458535\tvalidation_1-gini:-0.249841\n",
      "Stopping. Best iteration:\n",
      "[39]\tvalidation_0-error:0.447152\tvalidation_1-error:0.45572\tvalidation_0-gini:-0.435614\tvalidation_1-gini:-0.250157\n",
      "\n",
      "[0]\tvalidation_0-error:0.432542\tvalidation_1-error:0.434958\tvalidation_0-gini:-0.270093\tvalidation_1-gini:-0.200448\n",
      "Multiple eval metrics have been passed: 'validation_1-gini' will be used for early stopping.\n",
      "\n",
      "Will train until validation_1-gini hasn't improved in 10 rounds.\n",
      "[1]\tvalidation_0-error:0.471755\tvalidation_1-error:0.475269\tvalidation_0-gini:-0.306378\tvalidation_1-gini:-0.207225\n",
      "[2]\tvalidation_0-error:0.467827\tvalidation_1-error:0.47159\tvalidation_0-gini:-0.321872\tvalidation_1-gini:-0.217415\n",
      "[3]\tvalidation_0-error:0.48493\tvalidation_1-error:0.488925\tvalidation_0-gini:-0.325994\tvalidation_1-gini:-0.220762\n",
      "[4]\tvalidation_0-error:0.478794\tvalidation_1-error:0.483149\tvalidation_0-gini:-0.337275\tvalidation_1-gini:-0.226938\n",
      "[5]\tvalidation_0-error:0.486119\tvalidation_1-error:0.489926\tvalidation_0-gini:-0.341208\tvalidation_1-gini:-0.230033\n",
      "[6]\tvalidation_0-error:0.477789\tvalidation_1-error:0.481361\tvalidation_0-gini:-0.347666\tvalidation_1-gini:-0.235521\n",
      "[7]\tvalidation_0-error:0.481455\tvalidation_1-error:0.484621\tvalidation_0-gini:-0.349139\tvalidation_1-gini:-0.233833\n",
      "[8]\tvalidation_0-error:0.476882\tvalidation_1-error:0.480874\tvalidation_0-gini:-0.354702\tvalidation_1-gini:-0.235611\n",
      "[9]\tvalidation_0-error:0.476338\tvalidation_1-error:0.480091\tvalidation_0-gini:-0.357801\tvalidation_1-gini:-0.236194\n",
      "[10]\tvalidation_0-error:0.474544\tvalidation_1-error:0.47911\tvalidation_0-gini:-0.359741\tvalidation_1-gini:-0.236283\n"
     ]
    },
    {
     "ename": "KeyboardInterrupt",
     "evalue": "",
     "output_type": "error",
     "traceback": [
      "\u001b[0;31m---------------------------------------------------------------------------\u001b[0m",
      "\u001b[0;31mKeyboardInterrupt\u001b[0m                         Traceback (most recent call last)",
      "\u001b[0;32m<ipython-input-210-6ff8fd889268>\u001b[0m in \u001b[0;36m<module>\u001b[0;34m()\u001b[0m\n\u001b[1;32m      6\u001b[0m             \u001b[0meval_set\u001b[0m\u001b[0;34m=\u001b[0m\u001b[0;34m[\u001b[0m\u001b[0;34m(\u001b[0m\u001b[0mtrain_X\u001b[0m\u001b[0;34m,\u001b[0m\u001b[0mtrain_y\u001b[0m\u001b[0;34m)\u001b[0m\u001b[0;34m,\u001b[0m\u001b[0;34m(\u001b[0m\u001b[0mtest_X\u001b[0m\u001b[0;34m,\u001b[0m\u001b[0mtest_y\u001b[0m\u001b[0;34m)\u001b[0m\u001b[0;34m]\u001b[0m\u001b[0;34m,\u001b[0m\u001b[0;34m\u001b[0m\u001b[0m\n\u001b[1;32m      7\u001b[0m             \u001b[0meval_metric\u001b[0m\u001b[0;34m=\u001b[0m\u001b[0mgini_coefficient\u001b[0m\u001b[0;34m,\u001b[0m\u001b[0;34m\u001b[0m\u001b[0m\n\u001b[0;32m----> 8\u001b[0;31m             early_stopping_rounds=10)\n\u001b[0m",
      "\u001b[0;32m/Users/guoli/.local/lib/python2.7/site-packages/xgboost-0.6-py2.7.egg/xgboost/sklearn.pyc\u001b[0m in \u001b[0;36mfit\u001b[0;34m(self, X, y, sample_weight, eval_set, eval_metric, early_stopping_rounds, verbose)\u001b[0m\n\u001b[1;32m    462\u001b[0m                               \u001b[0mearly_stopping_rounds\u001b[0m\u001b[0;34m=\u001b[0m\u001b[0mearly_stopping_rounds\u001b[0m\u001b[0;34m,\u001b[0m\u001b[0;34m\u001b[0m\u001b[0m\n\u001b[1;32m    463\u001b[0m                               \u001b[0mevals_result\u001b[0m\u001b[0;34m=\u001b[0m\u001b[0mevals_result\u001b[0m\u001b[0;34m,\u001b[0m \u001b[0mobj\u001b[0m\u001b[0;34m=\u001b[0m\u001b[0mobj\u001b[0m\u001b[0;34m,\u001b[0m \u001b[0mfeval\u001b[0m\u001b[0;34m=\u001b[0m\u001b[0mfeval\u001b[0m\u001b[0;34m,\u001b[0m\u001b[0;34m\u001b[0m\u001b[0m\n\u001b[0;32m--> 464\u001b[0;31m                               verbose_eval=verbose)\n\u001b[0m\u001b[1;32m    465\u001b[0m \u001b[0;34m\u001b[0m\u001b[0m\n\u001b[1;32m    466\u001b[0m         \u001b[0mself\u001b[0m\u001b[0;34m.\u001b[0m\u001b[0mobjective\u001b[0m \u001b[0;34m=\u001b[0m \u001b[0mxgb_options\u001b[0m\u001b[0;34m[\u001b[0m\u001b[0;34m\"objective\"\u001b[0m\u001b[0;34m]\u001b[0m\u001b[0;34m\u001b[0m\u001b[0m\n",
      "\u001b[0;32m/Users/guoli/.local/lib/python2.7/site-packages/xgboost-0.6-py2.7.egg/xgboost/training.pyc\u001b[0m in \u001b[0;36mtrain\u001b[0;34m(params, dtrain, num_boost_round, evals, obj, feval, maximize, early_stopping_rounds, evals_result, verbose_eval, xgb_model, callbacks, learning_rates)\u001b[0m\n\u001b[1;32m    202\u001b[0m                            \u001b[0mevals\u001b[0m\u001b[0;34m=\u001b[0m\u001b[0mevals\u001b[0m\u001b[0;34m,\u001b[0m\u001b[0;34m\u001b[0m\u001b[0m\n\u001b[1;32m    203\u001b[0m                            \u001b[0mobj\u001b[0m\u001b[0;34m=\u001b[0m\u001b[0mobj\u001b[0m\u001b[0;34m,\u001b[0m \u001b[0mfeval\u001b[0m\u001b[0;34m=\u001b[0m\u001b[0mfeval\u001b[0m\u001b[0;34m,\u001b[0m\u001b[0;34m\u001b[0m\u001b[0m\n\u001b[0;32m--> 204\u001b[0;31m                            xgb_model=xgb_model, callbacks=callbacks)\n\u001b[0m\u001b[1;32m    205\u001b[0m \u001b[0;34m\u001b[0m\u001b[0m\n\u001b[1;32m    206\u001b[0m \u001b[0;34m\u001b[0m\u001b[0m\n",
      "\u001b[0;32m/Users/guoli/.local/lib/python2.7/site-packages/xgboost-0.6-py2.7.egg/xgboost/training.pyc\u001b[0m in \u001b[0;36m_train_internal\u001b[0;34m(params, dtrain, num_boost_round, evals, obj, feval, xgb_model, callbacks)\u001b[0m\n\u001b[1;32m     72\u001b[0m         \u001b[0;31m# Skip the first update if it is a recovery step.\u001b[0m\u001b[0;34m\u001b[0m\u001b[0;34m\u001b[0m\u001b[0m\n\u001b[1;32m     73\u001b[0m         \u001b[0;32mif\u001b[0m \u001b[0mversion\u001b[0m \u001b[0;34m%\u001b[0m \u001b[0;36m2\u001b[0m \u001b[0;34m==\u001b[0m \u001b[0;36m0\u001b[0m\u001b[0;34m:\u001b[0m\u001b[0;34m\u001b[0m\u001b[0m\n\u001b[0;32m---> 74\u001b[0;31m             \u001b[0mbst\u001b[0m\u001b[0;34m.\u001b[0m\u001b[0mupdate\u001b[0m\u001b[0;34m(\u001b[0m\u001b[0mdtrain\u001b[0m\u001b[0;34m,\u001b[0m \u001b[0mi\u001b[0m\u001b[0;34m,\u001b[0m \u001b[0mobj\u001b[0m\u001b[0;34m)\u001b[0m\u001b[0;34m\u001b[0m\u001b[0m\n\u001b[0m\u001b[1;32m     75\u001b[0m             \u001b[0mbst\u001b[0m\u001b[0;34m.\u001b[0m\u001b[0msave_rabit_checkpoint\u001b[0m\u001b[0;34m(\u001b[0m\u001b[0;34m)\u001b[0m\u001b[0;34m\u001b[0m\u001b[0m\n\u001b[1;32m     76\u001b[0m             \u001b[0mversion\u001b[0m \u001b[0;34m+=\u001b[0m \u001b[0;36m1\u001b[0m\u001b[0;34m\u001b[0m\u001b[0m\n",
      "\u001b[0;32m/Users/guoli/.local/lib/python2.7/site-packages/xgboost-0.6-py2.7.egg/xgboost/core.pyc\u001b[0m in \u001b[0;36mupdate\u001b[0;34m(self, dtrain, iteration, fobj)\u001b[0m\n\u001b[1;32m    817\u001b[0m \u001b[0;34m\u001b[0m\u001b[0m\n\u001b[1;32m    818\u001b[0m         \u001b[0;32mif\u001b[0m \u001b[0mfobj\u001b[0m \u001b[0;32mis\u001b[0m \u001b[0mNone\u001b[0m\u001b[0;34m:\u001b[0m\u001b[0;34m\u001b[0m\u001b[0m\n\u001b[0;32m--> 819\u001b[0;31m             \u001b[0m_check_call\u001b[0m\u001b[0;34m(\u001b[0m\u001b[0m_LIB\u001b[0m\u001b[0;34m.\u001b[0m\u001b[0mXGBoosterUpdateOneIter\u001b[0m\u001b[0;34m(\u001b[0m\u001b[0mself\u001b[0m\u001b[0;34m.\u001b[0m\u001b[0mhandle\u001b[0m\u001b[0;34m,\u001b[0m \u001b[0miteration\u001b[0m\u001b[0;34m,\u001b[0m \u001b[0mdtrain\u001b[0m\u001b[0;34m.\u001b[0m\u001b[0mhandle\u001b[0m\u001b[0;34m)\u001b[0m\u001b[0;34m)\u001b[0m\u001b[0;34m\u001b[0m\u001b[0m\n\u001b[0m\u001b[1;32m    820\u001b[0m         \u001b[0;32melse\u001b[0m\u001b[0;34m:\u001b[0m\u001b[0;34m\u001b[0m\u001b[0m\n\u001b[1;32m    821\u001b[0m             \u001b[0mpred\u001b[0m \u001b[0;34m=\u001b[0m \u001b[0mself\u001b[0m\u001b[0;34m.\u001b[0m\u001b[0mpredict\u001b[0m\u001b[0;34m(\u001b[0m\u001b[0mdtrain\u001b[0m\u001b[0;34m)\u001b[0m\u001b[0;34m\u001b[0m\u001b[0m\n",
      "\u001b[0;31mKeyboardInterrupt\u001b[0m: "
     ]
    }
   ],
   "source": [
    "kf = KFold(n_splits=2)\n",
    "for train_index, test_index in kf.split(X):\n",
    "    train_X, test_X = X[train_index], X[test_index]\n",
    "    train_y, test_y = y[train_index], y[test_index]\n",
    "    xgb.fit(train_X, train_y, \n",
    "            eval_set=[(train_X,train_y),(test_X,test_y)], \n",
    "            eval_metric=gini_coefficient,\n",
    "            early_stopping_rounds=10)"
   ]
  },
  {
   "cell_type": "code",
   "execution_count": null,
   "metadata": {
    "collapsed": true
   },
   "outputs": [],
   "source": []
  }
 ],
 "metadata": {
  "kernelspec": {
   "display_name": "Python 2",
   "language": "python",
   "name": "python2"
  },
  "language_info": {
   "codemirror_mode": {
    "name": "ipython",
    "version": 2
   },
   "file_extension": ".py",
   "mimetype": "text/x-python",
   "name": "python",
   "nbconvert_exporter": "python",
   "pygments_lexer": "ipython2",
   "version": "2.7.13"
  }
 },
 "nbformat": 4,
 "nbformat_minor": 2
}
