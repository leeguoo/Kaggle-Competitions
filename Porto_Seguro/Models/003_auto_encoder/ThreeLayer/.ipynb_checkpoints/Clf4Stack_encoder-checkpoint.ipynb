{
 "cells": [
  {
   "cell_type": "markdown",
   "metadata": {},
   "source": [
    "# 1. Feature Engineering (Obtained before hand)"
   ]
  },
  {
   "cell_type": "code",
   "execution_count": 1,
   "metadata": {
    "collapsed": true
   },
   "outputs": [],
   "source": [
    "import pandas as pd\n",
    "import numpy as np\n",
    "\n",
    "def FeatureEngineering(trainpath,testpath):\n",
    "    df = pd.read_csv(trainpath,nrows=nrows)\n",
    "    df = df[df['target']==0]\n",
    "    \n",
    "    #categorical\n",
    "    cats = pd.DataFrame()\n",
    "    for col in df.columns:\n",
    "        if 'cat' in col:\n",
    "            cats = pd.concat([cats,pd.get_dummies(df[col],prefix=col)],axis=1)\n",
    "            \n",
    "    #binary        \n",
    "    cols = []\n",
    "    for col in df.columns:\n",
    "        if 'bin' in col:\n",
    "            cols.append(col)\n",
    "    bins = df[cols]\n",
    "    \n",
    "    return np.array(pd.concat([bins,cats],axis=1))\n",
    "    \n",
    "    trainX = np.array(train)\n",
    "    testX = np.array(test)\n",
    "    trainy = np.array(y)\n",
    "    \n",
    "    return trainX, trainy, testX"
   ]
  },
  {
   "cell_type": "markdown",
   "metadata": {},
   "source": [
    "# 3. Class for stacking"
   ]
  },
  {
   "cell_type": "code",
   "execution_count": 12,
   "metadata": {
    "collapsed": true
   },
   "outputs": [],
   "source": [
    "import numpy as np\n",
    "import pandas as pd\n",
    "from sklearn.model_selection import StratifiedKFold, train_test_split\n",
    "\n",
    "class Clf4Stack_xgb(object):\n",
    "    def __init__(self, model, metric, early_stopping_rounds=10, test_size=0.25, verbose=False, n_splits=5):\n",
    "        self.n_splits = n_splits\n",
    "        self.model = model\n",
    "        self.metric = metric\n",
    "        self.early_stopping_rounds = early_stopping_rounds\n",
    "        self.test_size = test_size\n",
    "        self.verbose = verbose\n",
    "\n",
    "    def fit_predict(self, trainX, trainy, testX):\n",
    "\n",
    "        self.train4stack = np.zeros(len(trainX))\n",
    "        self.test4stack = np.zeros(len(testX))\n",
    "\n",
    "        skf = StratifiedKFold(n_splits=self.n_splits, shuffle=True, random_state=44)\n",
    "\n",
    "        for i, (train_index,test_index) in enumerate(skf.split(trainX, trainy)):\n",
    "            print(\"=====Round {0}/{1}=====\".format(i+1,self.n_splits))\n",
    "            X_train, X_test = trainX[train_index], trainX[test_index]\n",
    "            y_train, y_test = trainy[train_index], trainy[test_index]\n",
    "\n",
    "            x1, x2, y1, y2 = train_test_split(X_train, y_train, test_size=self.test_size, random_state=99)\n",
    "            \n",
    "            self.model.fit(x1, y1, \n",
    "                           eval_set=[(x1,y1),(x2,y2)], \n",
    "                           eval_metric=self.metric,\n",
    "                           early_stopping_rounds=self.early_stopping_rounds,\n",
    "                           verbose=self.verbose)\n",
    "            \n",
    "            y_pred = self.model.predict_proba(X_test,ntree_limit=self.model.best_ntree_limit)[:,1]\n",
    "            self.train4stack[test_index] = y_pred\n",
    "            self.test4stack += self.model.predict_proba(testX,ntree_limit=self.model.best_ntree_limit)[:,1]\n",
    "        \n",
    "        self.test4stack /= self.n_splits\n",
    "            \n",
    "    def output(self,train_file_name='train4stack.csv',\n",
    "                    test_file_name='test4stack.csv',\n",
    "                    col_name='F4stack'):\n",
    "\n",
    "        pd.DataFrame({col_name:self.train4stack}).to_csv(train_file_name,index=False) \n",
    "        pd.DataFrame({col_name:self.test4stack}).to_csv(test_file_name,index=False)"
   ]
  },
  {
   "cell_type": "markdown",
   "metadata": {},
   "source": [
    "# 4. Run"
   ]
  },
  {
   "cell_type": "markdown",
   "metadata": {},
   "source": [
    "## 4.1 Prepare data"
   ]
  },
  {
   "cell_type": "code",
   "execution_count": 13,
   "metadata": {
    "collapsed": true
   },
   "outputs": [],
   "source": [
    "trainpath = \"/Users/guoli/Desktop/kaggle/Porto/train.csv\"\n",
    "testpath = \"/Users/guoli/Desktop/kaggle/Porto/test.csv\"\n",
    "\n",
    "trainX, trainy, testX = FeatureEngineering(trainpath,testpath)"
   ]
  },
  {
   "cell_type": "markdown",
   "metadata": {},
   "source": [
    "## 4.2 Build Model (the optimal hyperparameters obtained before hand)"
   ]
  },
  {
   "cell_type": "code",
   "execution_count": 14,
   "metadata": {
    "collapsed": false
   },
   "outputs": [
    {
     "data": {
      "text/plain": [
       "XGBClassifier(base_score=0.5, colsample_bylevel=0.7, colsample_bytree=0.7,\n",
       "       gamma=0, learning_rate=0.025, max_delta_step=0, max_depth=4,\n",
       "       min_child_weight=100, missing=None, n_estimators=50, nthread=-1,\n",
       "       objective='binary:logistic', reg_alpha=0, reg_lambda=1,\n",
       "       scale_pos_weight=1, seed=99, silent=True, subsample=0.9)"
      ]
     },
     "execution_count": 14,
     "metadata": {},
     "output_type": "execute_result"
    }
   ],
   "source": [
    "from xgboost import XGBClassifier\n",
    "\n",
    "params = {'learning_rate': 0.025, \n",
    "          'n_estimators': 50,\n",
    "          'max_depth': 4, \n",
    "          'subsample': 0.9, \n",
    "          'colsample_bytree': 0.7, \n",
    "          'colsample_bylevel':0.7,\n",
    "          'min_child_weight':100,\n",
    "          'objective': 'binary:logistic', \n",
    "          'seed': 99, \n",
    "          'silent': True}\n",
    "\n",
    "xgb = XGBClassifier()\n",
    "xgb.set_params(**params)"
   ]
  },
  {
   "cell_type": "markdown",
   "metadata": {},
   "source": [
    "## 4.3 Generate data for stacking"
   ]
  },
  {
   "cell_type": "code",
   "execution_count": 15,
   "metadata": {
    "collapsed": false
   },
   "outputs": [],
   "source": [
    "C4S = Clf4Stack_xgb(xgb, \n",
    "                    gini_coefficient, \n",
    "                    early_stopping_rounds=10, \n",
    "                    test_size=0.25, \n",
    "                    verbose=50, \n",
    "                    n_splits=5)"
   ]
  },
  {
   "cell_type": "code",
   "execution_count": 16,
   "metadata": {
    "collapsed": false
   },
   "outputs": [
    {
     "name": "stdout",
     "output_type": "stream",
     "text": [
      "=====Round 1/5=====\n",
      "[0]\tvalidation_0-error:0.036455\tvalidation_1-error:0.036424\tvalidation_0-gini:-0.193979\tvalidation_1-gini:-0.180103\n",
      "Multiple eval metrics have been passed: 'validation_1-gini' will be used for early stopping.\n",
      "\n",
      "Will train until validation_1-gini hasn't improved in 10 rounds.\n",
      "[49]\tvalidation_0-error:0.036455\tvalidation_1-error:0.036424\tvalidation_0-gini:-0.253122\tvalidation_1-gini:-0.232535\n",
      "=====Round 2/5=====\n",
      "[0]\tvalidation_0-error:0.036323\tvalidation_1-error:0.036819\tvalidation_0-gini:-0.191735\tvalidation_1-gini:-0.191536\n",
      "Multiple eval metrics have been passed: 'validation_1-gini' will be used for early stopping.\n",
      "\n",
      "Will train until validation_1-gini hasn't improved in 10 rounds.\n",
      "[49]\tvalidation_0-error:0.036323\tvalidation_1-error:0.036819\tvalidation_0-gini:-0.252992\tvalidation_1-gini:-0.251346\n",
      "=====Round 3/5=====\n",
      "[0]\tvalidation_0-error:0.036265\tvalidation_1-error:0.036995\tvalidation_0-gini:-0.191467\tvalidation_1-gini:-0.175703\n",
      "Multiple eval metrics have been passed: 'validation_1-gini' will be used for early stopping.\n",
      "\n",
      "Will train until validation_1-gini hasn't improved in 10 rounds.\n",
      "Stopping. Best iteration:\n",
      "[29]\tvalidation_0-error:0.036265\tvalidation_1-error:0.036995\tvalidation_0-gini:-0.258752\tvalidation_1-gini:-0.242687\n",
      "\n",
      "=====Round 4/5=====\n",
      "[0]\tvalidation_0-error:0.036631\tvalidation_1-error:0.035895\tvalidation_0-gini:-0.196246\tvalidation_1-gini:-0.190191\n",
      "Multiple eval metrics have been passed: 'validation_1-gini' will be used for early stopping.\n",
      "\n",
      "Will train until validation_1-gini hasn't improved in 10 rounds.\n",
      "Stopping. Best iteration:\n",
      "[31]\tvalidation_0-error:0.036631\tvalidation_1-error:0.035895\tvalidation_0-gini:-0.257176\tvalidation_1-gini:-0.233131\n",
      "\n",
      "=====Round 5/5=====\n",
      "[0]\tvalidation_0-error:0.0365\tvalidation_1-error:0.036298\tvalidation_0-gini:-0.178723\tvalidation_1-gini:-0.171629\n",
      "Multiple eval metrics have been passed: 'validation_1-gini' will be used for early stopping.\n",
      "\n",
      "Will train until validation_1-gini hasn't improved in 10 rounds.\n",
      "Stopping. Best iteration:\n",
      "[26]\tvalidation_0-error:0.0365\tvalidation_1-error:0.036298\tvalidation_0-gini:-0.247994\tvalidation_1-gini:-0.237045\n",
      "\n"
     ]
    }
   ],
   "source": [
    "C4S.fit_predict(trainX, trainy, testX)\n",
    "\n",
    "C4S.output()"
   ]
  }
 ],
 "metadata": {
  "kernelspec": {
   "display_name": "Python 2",
   "language": "python",
   "name": "python2"
  },
  "language_info": {
   "codemirror_mode": {
    "name": "ipython",
    "version": 2
   },
   "file_extension": ".py",
   "mimetype": "text/x-python",
   "name": "python",
   "nbconvert_exporter": "python",
   "pygments_lexer": "ipython2",
   "version": "2.7.13"
  }
 },
 "nbformat": 4,
 "nbformat_minor": 2
}
