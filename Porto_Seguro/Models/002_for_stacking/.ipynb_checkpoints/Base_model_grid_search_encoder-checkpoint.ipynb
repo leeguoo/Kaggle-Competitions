{
 "cells": [
  {
   "cell_type": "markdown",
   "metadata": {},
   "source": [
    "# 1. Custom class for Grid cv Search"
   ]
  },
  {
   "cell_type": "code",
   "execution_count": 2,
   "metadata": {
    "collapsed": false
   },
   "outputs": [],
   "source": [
    "from sklearn.model_selection import KFold\n",
    "\n",
    "class CustomGridCV(object):\n",
    "    def __init__(self, X, y, model, metric, griddata, cv=3):\n",
    "        self.X = X\n",
    "        self.y = y\n",
    "        self.model = model\n",
    "        self.metric = metric\n",
    "        self.params = self.gridpoints(griddata)\n",
    "        self.cv = cv\n",
    "        self.bestScore = None\n",
    "        self.bestParams = None\n",
    "        \n",
    "    def gridpoints(self, data):\n",
    "        newparams = [{}]\n",
    "        for k in data.keys():\n",
    "            params = newparams\n",
    "            newparams = []\n",
    "            for v in data[k]:\n",
    "                for param in params:\n",
    "                    item = param.copy()\n",
    "                    item[k]=v\n",
    "                    newparams.append(item)           \n",
    "        return newparams\n",
    "    \n",
    "    def GridSearch(self):\n",
    "        for param in self.params:\n",
    "            self.model.set_params(**param)\n",
    "            score = self.KFoldScore()\n",
    "            if self.bestScore==None or self.bestScore<score:\n",
    "                self.bestScore = score\n",
    "                self.bestParams = param\n",
    "            print(\"Score: {0:.5f}, Params: {1}\".format(score,param))\n",
    "    \n",
    "    def KFoldScore(self):\n",
    "        kf = KFold(n_splits=5, shuffle=True, random_state=2)\n",
    "        y_pred = np.zeros(len(self.y))\n",
    "\n",
    "        for train_index, test_index in kf.split(self.X):\n",
    "            train_X, test_X = self.X[train_index], self.X[test_index]\n",
    "            train_y, test_y = self.y[train_index], self.y[test_index]\n",
    "            self.model.fit(train_X,train_y)\n",
    "            y_pred[test_index] = self.model.predict_proba(test_X)[:,1]\n",
    "\n",
    "        return self.metric(self.y,y_pred)\n",
    "    \n",
    "    def Best(self):\n",
    "        return self.bestScore, self.bestParams"
   ]
  },
  {
   "cell_type": "markdown",
   "metadata": {},
   "source": [
    "# 3. Data Preparation \n",
    "### Add your feature engineering work here"
   ]
  },
  {
   "cell_type": "code",
   "execution_count": 1,
   "metadata": {
    "collapsed": false
   },
   "outputs": [],
   "source": [
    "import pandas as pd\n",
    "import numpy as np\n",
    "\n",
    "def PrepareData(trainpath,nrows=None):\n",
    "    df = pd.read_csv(trainpath,nrows=nrows)\n",
    "\n",
    "    features = list(df.columns)\n",
    "    target = 'target'\n",
    "    features.remove(target)\n",
    "\n",
    "    X = np.array(df[features])\n",
    "    return X, X"
   ]
  },
  {
   "cell_type": "markdown",
   "metadata": {},
   "source": [
    "# 4. Search for the best hyperparameters\n",
    "## 4.1 The whole hyperparameter space is huge, we are not able to search the whole space\n",
    "## 4.2 We don't have to use all the data for hyperparameter searching. Tune nrows to determine the size of data considered. Have a look at learning curve."
   ]
  },
  {
   "cell_type": "code",
   "execution_count": 8,
   "metadata": {
    "collapsed": false
   },
   "outputs": [
    {
     "name": "stdout",
     "output_type": "stream",
     "text": [
      "Score: 0.16299, Params: {'n_estimators': 30, 'min_samples_split': 2, 'min_samples_leaf': 2}\n",
      "Score: 0.16298, Params: {'n_estimators': 50, 'min_samples_split': 2, 'min_samples_leaf': 2}\n",
      "Score: 0.16038, Params: {'n_estimators': 30, 'min_samples_split': 3, 'min_samples_leaf': 2}\n",
      "Score: 0.21877, Params: {'n_estimators': 50, 'min_samples_split': 3, 'min_samples_leaf': 2}\n",
      "Score: 0.14743, Params: {'n_estimators': 30, 'min_samples_split': 2, 'min_samples_leaf': 3}\n",
      "Score: 0.19304, Params: {'n_estimators': 50, 'min_samples_split': 2, 'min_samples_leaf': 3}\n",
      "Score: 0.15883, Params: {'n_estimators': 30, 'min_samples_split': 3, 'min_samples_leaf': 3}\n",
      "Score: 0.19851, Params: {'n_estimators': 50, 'min_samples_split': 3, 'min_samples_leaf': 3}\n",
      "Best Params:\n",
      "(0.21876589770782301, {'n_estimators': 50, 'min_samples_split': 3, 'min_samples_leaf': 2})\n"
     ]
    }
   ],
   "source": [
    "from sklearn.ensemble import RandomForestClassifier\n",
    "\n",
    "# Read Data\n",
    "trainpath = \"/Users/guoli/Desktop/kaggle/Porto/train.csv\"\n",
    "X, y = PrepareData(trainpath,nrows=10000)\n",
    "\n",
    "# Select a Model\n",
    "model = RandomForestClassifier()\n",
    "\n",
    "# Set the ranges for parameters\n",
    "griddata = {\"n_estimators\":[30,50],\n",
    "            \"min_samples_split\": range(2,4),\n",
    "            \"min_samples_leaf\": range(2,4)}\n",
    "\n",
    "# Grid Search for the best parameters\n",
    "GCV = CustomGridCV(X, y, model, gini_normalized, griddata)\n",
    "\n",
    "GCV.GridSearch()\n",
    "\n",
    "print \"Best Params:\"\n",
    "print GCV.Best()"
   ]
  },
  {
   "cell_type": "code",
   "execution_count": null,
   "metadata": {
    "collapsed": true
   },
   "outputs": [],
   "source": []
  }
 ],
 "metadata": {
  "kernelspec": {
   "display_name": "Python 2",
   "language": "python",
   "name": "python2"
  },
  "language_info": {
   "codemirror_mode": {
    "name": "ipython",
    "version": 2
   },
   "file_extension": ".py",
   "mimetype": "text/x-python",
   "name": "python",
   "nbconvert_exporter": "python",
   "pygments_lexer": "ipython2",
   "version": "2.7.13"
  }
 },
 "nbformat": 4,
 "nbformat_minor": 2
}
