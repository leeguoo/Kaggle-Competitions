{
 "cells": [
  {
   "cell_type": "code",
   "execution_count": 10,
   "metadata": {
    "collapsed": false
   },
   "outputs": [],
   "source": [
    "import pandas as pd\n",
    "\n",
    "trainpath = \"/Users/guoli/Desktop/kaggle/Porto/train.csv\"\n",
    "testpath = \"/Users/guoli/Desktop/kaggle/Porto/test.csv\"\n",
    "\n",
    "pd.read_csv(trainpath,usecols=['ps_car_13'])\\\n",
    "    .rename(columns={'ps_car_13':'F4stack'})\\\n",
    "    .to_csv('train4stack.csv',index=False)\n",
    "    \n",
    "pd.read_csv(testpath,usecols=['ps_car_13'])\\\n",
    "    .rename(columns={'ps_car_13':'F4stack'})\\\n",
    "    .to_csv('test4stack.csv',index=False)    "
   ]
  },
  {
   "cell_type": "code",
   "execution_count": 11,
   "metadata": {
    "collapsed": false
   },
   "outputs": [
    {
     "name": "stdout",
     "output_type": "stream",
     "text": [
      "/Users/guoli/Desktop/github/Kaggle-Competitions/Porto_Seguro/Models/002_for_stacking\r\n"
     ]
    }
   ],
   "source": [
    "!pwd"
   ]
  },
  {
   "cell_type": "code",
   "execution_count": null,
   "metadata": {
    "collapsed": true
   },
   "outputs": [],
   "source": []
  }
 ],
 "metadata": {
  "kernelspec": {
   "display_name": "Python 2",
   "language": "python",
   "name": "python2"
  },
  "language_info": {
   "codemirror_mode": {
    "name": "ipython",
    "version": 2
   },
   "file_extension": ".py",
   "mimetype": "text/x-python",
   "name": "python",
   "nbconvert_exporter": "python",
   "pygments_lexer": "ipython2",
   "version": "2.7.13"
  }
 },
 "nbformat": 4,
 "nbformat_minor": 2
}
