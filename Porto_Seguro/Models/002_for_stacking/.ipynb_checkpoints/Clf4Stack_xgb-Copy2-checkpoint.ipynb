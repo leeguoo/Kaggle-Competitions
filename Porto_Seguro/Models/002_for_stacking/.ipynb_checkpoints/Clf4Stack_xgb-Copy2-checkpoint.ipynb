{
 "cells": [
  {
   "cell_type": "markdown",
   "metadata": {},
   "source": [
    "# 1. Feature Engineering (Obtained before hand)"
   ]
  },
  {
   "cell_type": "code",
   "execution_count": 1,
   "metadata": {
    "collapsed": true
   },
   "outputs": [],
   "source": [
    "import pandas as pd\n",
    "import numpy as np\n",
    "\n",
    "def FeatureEngineering(trainpath,testpath):\n",
    "    #### Load Data\n",
    "    train = pd.read_csv(trainpath)\n",
    "    test = pd.read_csv(testpath)\n",
    "\n",
    "    ### \n",
    "    y = train['target'].values\n",
    "    testid= test['id'].values\n",
    "\n",
    "    train.drop(['id','target'],axis=1,inplace=True)\n",
    "    test.drop(['id'],axis=1,inplace=True)\n",
    "\n",
    "    ### Drop calc\n",
    "    unwanted = train.columns[train.columns.str.startswith('ps_calc_')]\n",
    "    train = train.drop(unwanted, axis=1)  \n",
    "    test = test.drop(unwanted, axis=1)\n",
    "\n",
    "    ### Great Recovery from Pascal's materpiece\n",
    "\n",
    "    def recon(reg):\n",
    "        integer = int(np.round((40*reg)**2)) \n",
    "        for a in range(32):\n",
    "            if (integer - a) % 31 == 0:\n",
    "                A = a\n",
    "        M = (integer - A)//31\n",
    "        return A, M\n",
    "    train['ps_reg_A'] = train['ps_reg_03'].apply(lambda x: recon(x)[0])\n",
    "    #train['ps_reg_M'] = train['ps_reg_03'].apply(lambda x: recon(x)[1])\n",
    "    train['ps_reg_A'].replace(19,-1, inplace=True)\n",
    "    #train['ps_reg_M'].replace(51,-1, inplace=True)\n",
    "    test['ps_reg_A'] = test['ps_reg_03'].apply(lambda x: recon(x)[0])\n",
    "    #test['ps_reg_M'] = test['ps_reg_03'].apply(lambda x: recon(x)[1])\n",
    "    test['ps_reg_A'].replace(19,-1, inplace=True)\n",
    "    #test['ps_reg_M'].replace(51,-1, inplace=True)\n",
    "    \n",
    "    return trainX, trainy, testX"
   ]
  },
  {
   "cell_type": "code",
   "execution_count": null,
   "metadata": {
    "collapsed": true
   },
   "outputs": [],
   "source": [
    "import pandas as pd\n",
    "\n",
    "trainpath = \"/Users/guoli/Desktop/kaggle/Porto/train.csv\"\n",
    "testpath = \"/Users/guoli/Desktop/kaggle/Porto/test.csv\"\n",
    "\n",
    "pd.read_csv(trainpath,usecols=['ps_car_13'])\\\n",
    "    .rename(columns={'ps_car_13':'F4stack'})\\\n",
    "    .to_csv('train4stack.csv',index=False)\n",
    "    \n",
    "pd.read_csv(testpath,usecols=['ps_car_13'])\\\n",
    "    .rename(columns={'ps_car_13':'F4stack'})\\\n",
    "    .to_csv('test4stack.csv',index=False) "
   ]
  }
 ],
 "metadata": {
  "kernelspec": {
   "display_name": "Python 2",
   "language": "python",
   "name": "python2"
  },
  "language_info": {
   "codemirror_mode": {
    "name": "ipython",
    "version": 2
   },
   "file_extension": ".py",
   "mimetype": "text/x-python",
   "name": "python",
   "nbconvert_exporter": "python",
   "pygments_lexer": "ipython2",
   "version": "2.7.13"
  }
 },
 "nbformat": 4,
 "nbformat_minor": 2
}
