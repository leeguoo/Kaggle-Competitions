{
 "cells": [
  {
   "cell_type": "code",
   "execution_count": 1,
   "metadata": {
    "collapsed": false
   },
   "outputs": [
    {
     "name": "stdout",
     "output_type": "stream",
     "text": [
      "README          \u001b[31mtest4stack.csv\u001b[m\u001b[m  \u001b[31mtrain4stack.csv\u001b[m\u001b[m\r\n"
     ]
    }
   ],
   "source": [
    "!ls data/changlin_20171108_2/"
   ]
  },
  {
   "cell_type": "code",
   "execution_count": 2,
   "metadata": {
    "collapsed": true
   },
   "outputs": [],
   "source": [
    "import os\n",
    "import pandas as pd\n",
    "import matplotlib.pylab as plt"
   ]
  },
  {
   "cell_type": "code",
   "execution_count": 3,
   "metadata": {
    "collapsed": false
   },
   "outputs": [],
   "source": [
    "train = pd.read_csv('/Users/guoli/Desktop/kaggle/Porto/train.csv',usecols=['target'])\n",
    "test = pd.DataFrame()"
   ]
  },
  {
   "cell_type": "code",
   "execution_count": 4,
   "metadata": {
    "collapsed": false
   },
   "outputs": [],
   "source": [
    "foldernames = os.popen('ls data').readlines()"
   ]
  },
  {
   "cell_type": "code",
   "execution_count": 5,
   "metadata": {
    "collapsed": false
   },
   "outputs": [],
   "source": [
    "for foldername in foldernames:\n",
    "    foldername = foldername[:-1]\n",
    "    train[foldername] = pd.read_csv('data/{0}/train4stack.csv'.format(foldername))\n",
    "    test[foldername] = pd.read_csv('data/{0}/test4stack.csv'.format(foldername))"
   ]
  },
  {
   "cell_type": "code",
   "execution_count": 6,
   "metadata": {
    "collapsed": false
   },
   "outputs": [
    {
     "data": {
      "text/html": [
       "<div>\n",
       "<table border=\"1\" class=\"dataframe\">\n",
       "  <thead>\n",
       "    <tr style=\"text-align: right;\">\n",
       "      <th></th>\n",
       "      <th>target</th>\n",
       "      <th>changlin_20171108_1</th>\n",
       "      <th>changlin_20171108_2</th>\n",
       "      <th>guoli_20171108</th>\n",
       "      <th>guoli_20171109</th>\n",
       "      <th>mubi_20171109</th>\n",
       "      <th>tian_20171109</th>\n",
       "    </tr>\n",
       "  </thead>\n",
       "  <tbody>\n",
       "    <tr>\n",
       "      <th>0</th>\n",
       "      <td>0</td>\n",
       "      <td>0.044521</td>\n",
       "      <td>0.046646</td>\n",
       "      <td>0.994861</td>\n",
       "      <td>0.883679</td>\n",
       "      <td>0.047776</td>\n",
       "      <td>0.265382</td>\n",
       "    </tr>\n",
       "    <tr>\n",
       "      <th>1</th>\n",
       "      <td>0</td>\n",
       "      <td>0.035425</td>\n",
       "      <td>0.033705</td>\n",
       "      <td>1.047057</td>\n",
       "      <td>0.618817</td>\n",
       "      <td>0.035362</td>\n",
       "      <td>0.256079</td>\n",
       "    </tr>\n",
       "    <tr>\n",
       "      <th>2</th>\n",
       "      <td>0</td>\n",
       "      <td>0.017495</td>\n",
       "      <td>0.021387</td>\n",
       "      <td>1.272133</td>\n",
       "      <td>0.641586</td>\n",
       "      <td>0.026082</td>\n",
       "      <td>0.252894</td>\n",
       "    </tr>\n",
       "    <tr>\n",
       "      <th>3</th>\n",
       "      <td>0</td>\n",
       "      <td>0.033988</td>\n",
       "      <td>0.014646</td>\n",
       "      <td>0.477906</td>\n",
       "      <td>0.542949</td>\n",
       "      <td>0.023179</td>\n",
       "      <td>0.251246</td>\n",
       "    </tr>\n",
       "    <tr>\n",
       "      <th>4</th>\n",
       "      <td>0</td>\n",
       "      <td>0.031818</td>\n",
       "      <td>0.031650</td>\n",
       "      <td>0.769130</td>\n",
       "      <td>0.565832</td>\n",
       "      <td>0.031547</td>\n",
       "      <td>0.248128</td>\n",
       "    </tr>\n",
       "  </tbody>\n",
       "</table>\n",
       "</div>"
      ],
      "text/plain": [
       "   target  changlin_20171108_1  changlin_20171108_2  guoli_20171108  \\\n",
       "0       0             0.044521             0.046646        0.994861   \n",
       "1       0             0.035425             0.033705        1.047057   \n",
       "2       0             0.017495             0.021387        1.272133   \n",
       "3       0             0.033988             0.014646        0.477906   \n",
       "4       0             0.031818             0.031650        0.769130   \n",
       "\n",
       "   guoli_20171109  mubi_20171109  tian_20171109  \n",
       "0        0.883679       0.047776       0.265382  \n",
       "1        0.618817       0.035362       0.256079  \n",
       "2        0.641586       0.026082       0.252894  \n",
       "3        0.542949       0.023179       0.251246  \n",
       "4        0.565832       0.031547       0.248128  "
      ]
     },
     "execution_count": 6,
     "metadata": {},
     "output_type": "execute_result"
    }
   ],
   "source": [
    "train.head()"
   ]
  },
  {
   "cell_type": "code",
   "execution_count": 7,
   "metadata": {
    "collapsed": true
   },
   "outputs": [],
   "source": [
    "def gini(actual, pred, cmpcol = 0, sortcol = 1):\n",
    "    assert( len(actual) == len(pred) )\n",
    "    all = np.asarray(np.c_[ actual, pred, np.arange(len(actual)) ], dtype=np.float)\n",
    "    all = all[ np.lexsort((all[:,2], -1*all[:,1])) ]\n",
    "    totalLosses = all[:,0].sum()\n",
    "    giniSum = all[:,0].cumsum().sum() / totalLosses\n",
    " \n",
    "    giniSum -= (len(actual) + 1) / 2.\n",
    "    return giniSum / len(actual)\n",
    " \n",
    "def gini_normalized(a, p):\n",
    "    return gini(a, p) / gini(a, a)\n",
    "\n",
    "def gini_coefficient(preds,dtrain):\n",
    "    y = dtrain.get_label()\n",
    "    return 'gini', -gini_normalized(y,preds)"
   ]
  },
  {
   "cell_type": "code",
   "execution_count": 8,
   "metadata": {
    "collapsed": true
   },
   "outputs": [],
   "source": [
    "from sklearn.model_selection import KFold\n",
    "\n",
    "class CustomGridCV(object):\n",
    "    def __init__(self, X, y, model, metric, griddata, cv=5):\n",
    "        self.X = X\n",
    "        self.y = y\n",
    "        self.model = model\n",
    "        self.metric = metric\n",
    "        self.params = self.gridpoints(griddata)\n",
    "        self.cv = cv\n",
    "        self.bestScore = None\n",
    "        self.bestParams = None\n",
    "        \n",
    "    def gridpoints(self, data):\n",
    "        newparams = [{}]\n",
    "        for k in data.keys():\n",
    "            params = newparams\n",
    "            newparams = []\n",
    "            for v in data[k]:\n",
    "                for param in params:\n",
    "                    item = param.copy()\n",
    "                    item[k]=v\n",
    "                    newparams.append(item)           \n",
    "        return newparams\n",
    "    \n",
    "    def GridSearch(self):\n",
    "        for param in self.params:\n",
    "            self.model.set_params(**param)\n",
    "            score = self.KFoldScore()\n",
    "            if self.bestScore==None or self.bestScore<score:\n",
    "                self.bestScore = score\n",
    "                self.bestParams = param\n",
    "            print(\"Score: {0:.5f}, Params: {1}\".format(score,param))\n",
    "    \n",
    "    def KFoldScore(self):\n",
    "        kf = KFold(n_splits=5, shuffle=True, random_state=2)\n",
    "        y_pred = np.zeros(len(self.y))\n",
    "\n",
    "        for train_index, test_index in kf.split(self.X):\n",
    "            train_X, test_X = self.X[train_index], self.X[test_index]\n",
    "            train_y, test_y = self.y[train_index], self.y[test_index]\n",
    "            self.model.fit(train_X,train_y)\n",
    "            #y_pred[test_index] = self.model.predict_proba(test_X)[:,1]\n",
    "            y_pred[test_index] = self.model.predict(test_X)\n",
    "            #print y_pred[test_index]\n",
    "\n",
    "        return self.metric(self.y,y_pred)\n",
    "    \n",
    "    def Best(self):\n",
    "        return self.bestScore, self.bestParams"
   ]
  },
  {
   "cell_type": "code",
   "execution_count": 9,
   "metadata": {
    "collapsed": true
   },
   "outputs": [],
   "source": [
    "import pandas as pd\n",
    "import numpy as np\n",
    "\n",
    "def PrepareData(df):\n",
    "    #df = pd.read_csv(trainpath,nrows=nrows)\n",
    "\n",
    "    features = list(df.columns)\n",
    "    target = 'target'\n",
    "    features.remove(target)\n",
    "\n",
    "    X = np.array(df[features])\n",
    "    y = np.array(df[target])\n",
    "    return X, y"
   ]
  },
  {
   "cell_type": "code",
   "execution_count": 10,
   "metadata": {
    "collapsed": true
   },
   "outputs": [],
   "source": [
    "from sklearn.linear_model import Lasso, LinearRegression, Ridge"
   ]
  },
  {
   "cell_type": "code",
   "execution_count": 11,
   "metadata": {
    "collapsed": false
   },
   "outputs": [
    {
     "name": "stdout",
     "output_type": "stream",
     "text": [
      "Score: 0.27824, Params: {'alpha': 0.0001}\n",
      "Score: 0.28382, Params: {'alpha': 1e-05}\n",
      "Score: 0.28379, Params: {'alpha': 1e-06}\n",
      "Score: 0.28378, Params: {'alpha': 1e-07}\n",
      "Score: 0.28378, Params: {'alpha': 1e-08}\n"
     ]
    }
   ],
   "source": [
    "X, y = PrepareData(train)\n",
    "model = Lasso(positive=True,fit_intercept=False)\n",
    "griddata = {'alpha':[1e-4,1e-5,1e-6,1e-7,1e-8]}\n",
    "GCV = CustomGridCV(X, y, model, gini_normalized, griddata)\n",
    "GCV.GridSearch()"
   ]
  },
  {
   "cell_type": "code",
   "execution_count": 15,
   "metadata": {
    "collapsed": false
   },
   "outputs": [
    {
     "name": "stdout",
     "output_type": "stream",
     "text": [
      "[ 0.          0.79163145  0.00089783  0.          0.1889944   0.        ]\n",
      "0.283952639086\n"
     ]
    }
   ],
   "source": [
    "model = Lasso(positive=True,fit_intercept=False,alpha=1e-5,)\n",
    "\n",
    "model.fit(X,y)\n",
    "\n",
    "print model.coef_\n",
    "\n",
    "print gini_normalized(y,model.predict(X))"
   ]
  },
  {
   "cell_type": "code",
   "execution_count": 18,
   "metadata": {
    "collapsed": false
   },
   "outputs": [
    {
     "data": {
      "text/plain": [
       "[('changlin_20171108_1', 0.0),\n",
       " ('guoli_20171109', 0.0),\n",
       " ('tian_20171109', 0.0),\n",
       " ('guoli_20171108', 0.00089783360502210469),\n",
       " ('mubi_20171109', 0.1889944031723815),\n",
       " ('changlin_20171108_2', 0.79163145294285553)]"
      ]
     },
     "execution_count": 18,
     "metadata": {},
     "output_type": "execute_result"
    }
   ],
   "source": [
    "sorted(zip(list(test.columns),model.coef_),key=lambda x: x[-1])"
   ]
  },
  {
   "cell_type": "code",
   "execution_count": 17,
   "metadata": {
    "collapsed": false
   },
   "outputs": [],
   "source": [
    "y_pred = model.predict(X)"
   ]
  },
  {
   "cell_type": "code",
   "execution_count": 20,
   "metadata": {
    "collapsed": false
   },
   "outputs": [
    {
     "data": {
      "text/plain": [
       "0"
      ]
     },
     "execution_count": 20,
     "metadata": {},
     "output_type": "execute_result"
    }
   ],
   "source": [
    "sum(y_pred>1)"
   ]
  },
  {
   "cell_type": "code",
   "execution_count": 21,
   "metadata": {
    "collapsed": false
   },
   "outputs": [
    {
     "data": {
      "text/plain": [
       "0"
      ]
     },
     "execution_count": 21,
     "metadata": {},
     "output_type": "execute_result"
    }
   ],
   "source": [
    "sum(y_pred<0)"
   ]
  },
  {
   "cell_type": "code",
   "execution_count": 143,
   "metadata": {
    "collapsed": false
   },
   "outputs": [],
   "source": [
    "#model.predict_proba(np.array(test))[:,1]"
   ]
  },
  {
   "cell_type": "code",
   "execution_count": 86,
   "metadata": {
    "collapsed": false
   },
   "outputs": [],
   "source": [
    "result = pd.read_csv('/Users/guoli/Desktop/kaggle/Porto/test.csv',usecols=['id'])\n",
    "result['target'] = model.predict(np.array(test))"
   ]
  },
  {
   "cell_type": "code",
   "execution_count": 87,
   "metadata": {
    "collapsed": false
   },
   "outputs": [
    {
     "data": {
      "text/html": [
       "<div>\n",
       "<table border=\"1\" class=\"dataframe\">\n",
       "  <thead>\n",
       "    <tr style=\"text-align: right;\">\n",
       "      <th></th>\n",
       "      <th>id</th>\n",
       "      <th>target</th>\n",
       "    </tr>\n",
       "  </thead>\n",
       "  <tbody>\n",
       "    <tr>\n",
       "      <th>0</th>\n",
       "      <td>0</td>\n",
       "      <td>0.026815</td>\n",
       "    </tr>\n",
       "    <tr>\n",
       "      <th>1</th>\n",
       "      <td>1</td>\n",
       "      <td>0.026101</td>\n",
       "    </tr>\n",
       "    <tr>\n",
       "      <th>2</th>\n",
       "      <td>2</td>\n",
       "      <td>0.026099</td>\n",
       "    </tr>\n",
       "    <tr>\n",
       "      <th>3</th>\n",
       "      <td>3</td>\n",
       "      <td>0.014812</td>\n",
       "    </tr>\n",
       "    <tr>\n",
       "      <th>4</th>\n",
       "      <td>4</td>\n",
       "      <td>0.035259</td>\n",
       "    </tr>\n",
       "  </tbody>\n",
       "</table>\n",
       "</div>"
      ],
      "text/plain": [
       "   id    target\n",
       "0   0  0.026815\n",
       "1   1  0.026101\n",
       "2   2  0.026099\n",
       "3   3  0.014812\n",
       "4   4  0.035259"
      ]
     },
     "execution_count": 87,
     "metadata": {},
     "output_type": "execute_result"
    }
   ],
   "source": [
    "result.head()"
   ]
  },
  {
   "cell_type": "code",
   "execution_count": 91,
   "metadata": {
    "collapsed": true
   },
   "outputs": [],
   "source": [
    "result.to_csv('5fea_lr_l1.csv',index=False)"
   ]
  },
  {
   "cell_type": "code",
   "execution_count": 13,
   "metadata": {
    "collapsed": false
   },
   "outputs": [
    {
     "name": "stdout",
     "output_type": "stream",
     "text": [
      "Score: 0.28323, Params: {'alpha': 0.0001}\n",
      "Score: 0.28323, Params: {'alpha': 0.001}\n",
      "Score: 0.28323, Params: {'alpha': 0.01}\n",
      "Score: 0.28322, Params: {'alpha': 0.1}\n",
      "Score: 0.28319, Params: {'alpha': 1.0}\n"
     ]
    }
   ],
   "source": [
    "X, y = PrepareData(train)\n",
    "model = Ridge(fit_intercept=False)\n",
    "griddata = {'alpha':[1e-4,1e-3,1e-2,1e-1,1.]}\n",
    "GCV = CustomGridCV(X, y, model, gini_normalized, griddata)\n",
    "GCV.GridSearch()"
   ]
  },
  {
   "cell_type": "code",
   "execution_count": 14,
   "metadata": {
    "collapsed": false
   },
   "outputs": [
    {
     "name": "stdout",
     "output_type": "stream",
     "text": [
      "[-0.04997164  0.81699995  0.00137139 -0.00102183  0.25743542 -0.00497164]\n",
      "0.283567612025\n"
     ]
    }
   ],
   "source": [
    "model = Ridge(fit_intercept=False,alpha=0.1)\n",
    "\n",
    "model.fit(X,y)\n",
    "\n",
    "print model.coef_\n",
    "\n",
    "print gini_normalized(y,model.predict(X))"
   ]
  },
  {
   "cell_type": "code",
   "execution_count": 92,
   "metadata": {
    "collapsed": false
   },
   "outputs": [
    {
     "name": "stdout",
     "output_type": "stream",
     "text": [
      "id,target\r\n",
      "0,0.0261317432156\r\n",
      "1,0.0259512759203\r\n",
      "2,0.0256943898781\r\n",
      "3,0.021864325779\r\n",
      "4,0.0296683108862\r\n",
      "5,0.0333643762681\r\n",
      "6,0.0218926572291\r\n",
      "8,0.0292410953604\r\n",
      "10,0.0391363268473\r\n"
     ]
    }
   ],
   "source": [
    "! head xgb_nn_encoder.csv"
   ]
  },
  {
   "cell_type": "code",
   "execution_count": 93,
   "metadata": {
    "collapsed": false
   },
   "outputs": [
    {
     "name": "stdout",
     "output_type": "stream",
     "text": [
      "id,target\r\n",
      "0,0.027213944809\r\n",
      "1,0.0268504878018\r\n",
      "2,0.0268239266324\r\n",
      "3,0.0228817182222\r\n",
      "4,0.0308930172235\r\n",
      "5,0.0347603909417\r\n",
      "6,0.0228852173097\r\n",
      "8,0.0301340889855\r\n",
      "10,0.0407172460428\r\n"
     ]
    }
   ],
   "source": [
    "! head xgb_nn_encoder_l1.csv"
   ]
  },
  {
   "cell_type": "code",
   "execution_count": 94,
   "metadata": {
    "collapsed": false
   },
   "outputs": [
    {
     "name": "stdout",
     "output_type": "stream",
     "text": [
      "id,target\r\n",
      "0,0.0268145562496\r\n",
      "1,0.0261013701657\r\n",
      "2,0.0260991637048\r\n",
      "3,0.0148118012637\r\n",
      "4,0.0352590130573\r\n",
      "5,0.0404777951743\r\n",
      "6,0.0172667533561\r\n",
      "8,0.0367728049591\r\n",
      "10,0.0519336535876\r\n"
     ]
    }
   ],
   "source": [
    "! head xgb_nn_encoder_lr_l1.csv"
   ]
  },
  {
   "cell_type": "code",
   "execution_count": null,
   "metadata": {
    "collapsed": true
   },
   "outputs": [],
   "source": []
  },
  {
   "cell_type": "code",
   "execution_count": null,
   "metadata": {
    "collapsed": true
   },
   "outputs": [],
   "source": []
  }
 ],
 "metadata": {
  "kernelspec": {
   "display_name": "Python 2",
   "language": "python",
   "name": "python2"
  },
  "language_info": {
   "codemirror_mode": {
    "name": "ipython",
    "version": 2
   },
   "file_extension": ".py",
   "mimetype": "text/x-python",
   "name": "python",
   "nbconvert_exporter": "python",
   "pygments_lexer": "ipython2",
   "version": "2.7.13"
  }
 },
 "nbformat": 4,
 "nbformat_minor": 2
}
