{
 "cells": [
  {
   "cell_type": "code",
   "execution_count": 27,
   "metadata": {
    "collapsed": true
   },
   "outputs": [],
   "source": [
    "import os\n",
    "import pandas as pd\n",
    "import matplotlib.pylab as plt"
   ]
  },
  {
   "cell_type": "code",
   "execution_count": 28,
   "metadata": {
    "collapsed": false
   },
   "outputs": [],
   "source": [
    "train = pd.read_csv('/Users/guoli/Desktop/kaggle/Porto/train.csv',usecols=['target'])\n",
    "test = pd.DataFrame()"
   ]
  },
  {
   "cell_type": "code",
   "execution_count": 29,
   "metadata": {
    "collapsed": false
   },
   "outputs": [],
   "source": [
    "foldernames = os.popen('ls data').readlines()"
   ]
  },
  {
   "cell_type": "code",
   "execution_count": 30,
   "metadata": {
    "collapsed": false
   },
   "outputs": [],
   "source": [
    "for foldername in foldernames:\n",
    "    foldername = foldername[:-1]\n",
    "    train[foldername] = pd.read_csv('data/{0}/train4stack.csv'.format(foldername))\n",
    "    test[foldername] = pd.read_csv('data/{0}/test4stack.csv'.format(foldername))"
   ]
  },
  {
   "cell_type": "code",
   "execution_count": 31,
   "metadata": {
    "collapsed": false
   },
   "outputs": [
    {
     "data": {
      "text/html": [
       "<div>\n",
       "<table border=\"1\" class=\"dataframe\">\n",
       "  <thead>\n",
       "    <tr style=\"text-align: right;\">\n",
       "      <th></th>\n",
       "      <th>target</th>\n",
       "      <th>changlin_20171108_1</th>\n",
       "      <th>changlin_20171108_2</th>\n",
       "      <th>guoli_20171108</th>\n",
       "    </tr>\n",
       "  </thead>\n",
       "  <tbody>\n",
       "    <tr>\n",
       "      <th>0</th>\n",
       "      <td>0</td>\n",
       "      <td>0.044521</td>\n",
       "      <td>0.046646</td>\n",
       "      <td>0.994861</td>\n",
       "    </tr>\n",
       "    <tr>\n",
       "      <th>1</th>\n",
       "      <td>0</td>\n",
       "      <td>0.035425</td>\n",
       "      <td>0.033705</td>\n",
       "      <td>1.047057</td>\n",
       "    </tr>\n",
       "    <tr>\n",
       "      <th>2</th>\n",
       "      <td>0</td>\n",
       "      <td>0.017495</td>\n",
       "      <td>0.021387</td>\n",
       "      <td>1.272133</td>\n",
       "    </tr>\n",
       "    <tr>\n",
       "      <th>3</th>\n",
       "      <td>0</td>\n",
       "      <td>0.033988</td>\n",
       "      <td>0.014646</td>\n",
       "      <td>0.477906</td>\n",
       "    </tr>\n",
       "    <tr>\n",
       "      <th>4</th>\n",
       "      <td>0</td>\n",
       "      <td>0.031818</td>\n",
       "      <td>0.031650</td>\n",
       "      <td>0.769130</td>\n",
       "    </tr>\n",
       "  </tbody>\n",
       "</table>\n",
       "</div>"
      ],
      "text/plain": [
       "   target  changlin_20171108_1  changlin_20171108_2  guoli_20171108\n",
       "0       0             0.044521             0.046646        0.994861\n",
       "1       0             0.035425             0.033705        1.047057\n",
       "2       0             0.017495             0.021387        1.272133\n",
       "3       0             0.033988             0.014646        0.477906\n",
       "4       0             0.031818             0.031650        0.769130"
      ]
     },
     "execution_count": 31,
     "metadata": {},
     "output_type": "execute_result"
    }
   ],
   "source": [
    "train.head()"
   ]
  },
  {
   "cell_type": "code",
   "execution_count": null,
   "metadata": {
    "collapsed": false
   },
   "outputs": [
    {
     "data": {
      "image/png": "[encoded data removed]",
      "text/plain": [
       "<matplotlib.figure.Figure at 0x1222646d0>"
      ]
     },
     "metadata": {},
     "output_type": "display_data"
    }
   ],
   "source": [
    "train[train.target==1]['changlin_20171108_1'].plot(kind='hist',bins=50,alpha=0.5,normed=True)\n",
    "train[train.target==0]['changlin_20171108_1'].plot(kind='hist',bins=50,alpha=0.5,normed=True)\n",
    "plt.show()"
   ]
  },
  {
   "cell_type": "code",
   "execution_count": null,
   "metadata": {
    "collapsed": false
   },
   "outputs": [],
   "source": [
    "train[train.target==1]['changlin_20171108_2'].plot(kind='hist',bins=50,alpha=0.5,normed=True)\n",
    "train[train.target==0]['changlin_20171108_2'].plot(kind='hist',bins=50,alpha=0.5,normed=True)\n",
    "plt.show()"
   ]
  },
  {
   "cell_type": "code",
   "execution_count": null,
   "metadata": {
    "collapsed": false
   },
   "outputs": [],
   "source": [
    "train[train.target==1]['guoli_20171108'].plot(kind='hist',bins=50,alpha=0.5,normed=True)\n",
    "train[train.target==0]['guoli_20171108'].plot(kind='hist',bins=50,alpha=0.5,normed=True)\n",
    "plt.show()"
   ]
  },
  {
   "cell_type": "code",
   "execution_count": null,
   "metadata": {
    "collapsed": true
   },
   "outputs": [],
   "source": [
    "def gini(actual, pred, cmpcol = 0, sortcol = 1):\n",
    "    assert( len(actual) == len(pred) )\n",
    "    all = np.asarray(np.c_[ actual, pred, np.arange(len(actual)) ], dtype=np.float)\n",
    "    all = all[ np.lexsort((all[:,2], -1*all[:,1])) ]\n",
    "    totalLosses = all[:,0].sum()\n",
    "    giniSum = all[:,0].cumsum().sum() / totalLosses\n",
    " \n",
    "    giniSum -= (len(actual) + 1) / 2.\n",
    "    return giniSum / len(actual)\n",
    " \n",
    "def gini_normalized(a, p):\n",
    "    return gini(a, p) / gini(a, a)\n",
    "\n",
    "def gini_coefficient(preds,dtrain):\n",
    "    y = dtrain.get_label()\n",
    "    return 'gini', -gini_normalized(y,preds)"
   ]
  },
  {
   "cell_type": "code",
   "execution_count": null,
   "metadata": {
    "collapsed": true
   },
   "outputs": [],
   "source": [
    "from sklearn.model_selection import KFold\n",
    "\n",
    "class CustomGridCV(object):\n",
    "    def __init__(self, X, y, model, metric, griddata, cv=5):\n",
    "        self.X = X\n",
    "        self.y = y\n",
    "        self.model = model\n",
    "        self.metric = metric\n",
    "        self.params = self.gridpoints(griddata)\n",
    "        self.cv = cv\n",
    "        self.bestScore = None\n",
    "        self.bestParams = None\n",
    "        \n",
    "    def gridpoints(self, data):\n",
    "        newparams = [{}]\n",
    "        for k in data.keys():\n",
    "            params = newparams\n",
    "            newparams = []\n",
    "            for v in data[k]:\n",
    "                for param in params:\n",
    "                    item = param.copy()\n",
    "                    item[k]=v\n",
    "                    newparams.append(item)           \n",
    "        return newparams\n",
    "    \n",
    "    def GridSearch(self):\n",
    "        for param in self.params:\n",
    "            self.model.set_params(**param)\n",
    "            score = self.KFoldScore()\n",
    "            if self.bestScore==None or self.bestScore<score:\n",
    "                self.bestScore = score\n",
    "                self.bestParams = param\n",
    "            print(\"Score: {0:.5f}, Params: {1}\".format(score,param))\n",
    "    \n",
    "    def KFoldScore(self):\n",
    "        kf = KFold(n_splits=5, shuffle=True, random_state=2)\n",
    "        y_pred = np.zeros(len(self.y))\n",
    "\n",
    "        for train_index, test_index in kf.split(self.X):\n",
    "            train_X, test_X = self.X[train_index], self.X[test_index]\n",
    "            train_y, test_y = self.y[train_index], self.y[test_index]\n",
    "            self.model.fit(train_X,train_y)\n",
    "            y_pred[test_index] = self.model.predict_proba(test_X)[:,1]\n",
    "\n",
    "        return self.metric(self.y,y_pred)\n",
    "    \n",
    "    def Best(self):\n",
    "        return self.bestScore, self.bestParams"
   ]
  },
  {
   "cell_type": "code",
   "execution_count": 12,
   "metadata": {
    "collapsed": true
   },
   "outputs": [],
   "source": [
    "import pandas as pd\n",
    "import numpy as np\n",
    "\n",
    "def PrepareData(df):\n",
    "    #df = pd.read_csv(trainpath,nrows=nrows)\n",
    "\n",
    "    features = list(df.columns)\n",
    "    target = 'target'\n",
    "    features.remove(target)\n",
    "\n",
    "    X = np.array(df[features])\n",
    "    y = np.array(df[target])\n",
    "    return X, y"
   ]
  },
  {
   "cell_type": "code",
   "execution_count": 13,
   "metadata": {
    "collapsed": false
   },
   "outputs": [
    {
     "name": "stdout",
     "output_type": "stream",
     "text": [
      "Score: 0.27930, Params: {'C': 1.0}\n",
      "Score: 0.28123, Params: {'C': 10.0}\n",
      "Score: 0.28142, Params: {'C': 100.0}\n",
      "Score: 0.28144, Params: {'C': 1000.0}\n",
      "Score: 0.28145, Params: {'C': 10000.0}\n",
      "Score: 0.28145, Params: {'C': 100000.0}\n"
     ]
    }
   ],
   "source": [
    "from sklearn.linear_model import LogisticRegression\n",
    "X, y = PrepareData(train)\n",
    "model = LogisticRegression()\n",
    "griddata = {'C':[1.0,10.0,100.0,1e3,1e4,1e5]}\n",
    "GCV = CustomGridCV(X, y, model, gini_normalized, griddata)\n",
    "GCV.GridSearch()"
   ]
  },
  {
   "cell_type": "code",
   "execution_count": 24,
   "metadata": {
    "collapsed": false
   },
   "outputs": [
    {
     "data": {
      "text/plain": [
       "RandomForestClassifier(bootstrap=True, class_weight=None, criterion='gini',\n",
       "            max_depth=None, max_features='auto', max_leaf_nodes=None,\n",
       "            min_impurity_split=1e-07, min_samples_leaf=1,\n",
       "            min_samples_split=2, min_weight_fraction_leaf=0.0,\n",
       "            n_estimators=100, n_jobs=-1, oob_score=False,\n",
       "            random_state=None, verbose=0, warm_start=False)"
      ]
     },
     "execution_count": 24,
     "metadata": {},
     "output_type": "execute_result"
    }
   ],
   "source": [
    "from sklearn.ensemble import RandomForestClassifier\n",
    "model = RandomForestClassifier(100,n_jobs=-1)\n",
    "\n",
    "model.fit(X,y)"
   ]
  },
  {
   "cell_type": "code",
   "execution_count": 25,
   "metadata": {
    "collapsed": false
   },
   "outputs": [
    {
     "name": "stdout",
     "output_type": "stream",
     "text": [
      "[ 0.33268316  0.3354819   0.33183495]\n"
     ]
    }
   ],
   "source": [
    "print model.feature_importances_"
   ]
  },
  {
   "cell_type": "code",
   "execution_count": 26,
   "metadata": {
    "collapsed": false
   },
   "outputs": [
    {
     "name": "stdout",
     "output_type": "stream",
     "text": [
      "1.0\n"
     ]
    }
   ],
   "source": [
    "print gini_normalized(y,model.predict_proba(X)[:,1])"
   ]
  },
  {
   "cell_type": "code",
   "execution_count": 143,
   "metadata": {
    "collapsed": false
   },
   "outputs": [],
   "source": [
    "#model.predict_proba(np.array(test))[:,1]"
   ]
  },
  {
   "cell_type": "code",
   "execution_count": 144,
   "metadata": {
    "collapsed": false
   },
   "outputs": [],
   "source": [
    "result = pd.read_csv('/Users/guoli/Desktop/kaggle/Porto/test.csv',usecols=['id'])\n",
    "result['target'] = model.predict_proba(np.array(test))[:,1]"
   ]
  },
  {
   "cell_type": "code",
   "execution_count": 146,
   "metadata": {
    "collapsed": false
   },
   "outputs": [
    {
     "data": {
      "text/html": [
       "<div>\n",
       "<table border=\"1\" class=\"dataframe\">\n",
       "  <thead>\n",
       "    <tr style=\"text-align: right;\">\n",
       "      <th></th>\n",
       "      <th>id</th>\n",
       "      <th>target</th>\n",
       "    </tr>\n",
       "  </thead>\n",
       "  <tbody>\n",
       "    <tr>\n",
       "      <th>0</th>\n",
       "      <td>0</td>\n",
       "      <td>0.026132</td>\n",
       "    </tr>\n",
       "    <tr>\n",
       "      <th>1</th>\n",
       "      <td>1</td>\n",
       "      <td>0.025951</td>\n",
       "    </tr>\n",
       "    <tr>\n",
       "      <th>2</th>\n",
       "      <td>2</td>\n",
       "      <td>0.025694</td>\n",
       "    </tr>\n",
       "    <tr>\n",
       "      <th>3</th>\n",
       "      <td>3</td>\n",
       "      <td>0.021864</td>\n",
       "    </tr>\n",
       "    <tr>\n",
       "      <th>4</th>\n",
       "      <td>4</td>\n",
       "      <td>0.029668</td>\n",
       "    </tr>\n",
       "  </tbody>\n",
       "</table>\n",
       "</div>"
      ],
      "text/plain": [
       "   id    target\n",
       "0   0  0.026132\n",
       "1   1  0.025951\n",
       "2   2  0.025694\n",
       "3   3  0.021864\n",
       "4   4  0.029668"
      ]
     },
     "execution_count": 146,
     "metadata": {},
     "output_type": "execute_result"
    }
   ],
   "source": [
    "result.head()"
   ]
  },
  {
   "cell_type": "code",
   "execution_count": 147,
   "metadata": {
    "collapsed": true
   },
   "outputs": [],
   "source": [
    "result.to_csv('xgb_nn_encoder.csv',index=False)"
   ]
  },
  {
   "cell_type": "code",
   "execution_count": 148,
   "metadata": {
    "collapsed": false
   },
   "outputs": [
    {
     "name": "stdout",
     "output_type": "stream",
     "text": [
      "id,target\r\n",
      "0,0.0261317432156\r\n",
      "1,0.0259512759203\r\n",
      "2,0.0256943898781\r\n",
      "3,0.021864325779\r\n",
      "4,0.0296683108862\r\n",
      "5,0.0333643762681\r\n",
      "6,0.0218926572291\r\n",
      "8,0.0292410953604\r\n",
      "10,0.0391363268473\r\n"
     ]
    }
   ],
   "source": [
    "! head xgb_nn_encoder.csv"
   ]
  },
  {
   "cell_type": "code",
   "execution_count": null,
   "metadata": {
    "collapsed": true
   },
   "outputs": [],
   "source": []
  }
 ],
 "metadata": {
  "kernelspec": {
   "display_name": "Python 2",
   "language": "python",
   "name": "python2"
  },
  "language_info": {
   "codemirror_mode": {
    "name": "ipython",
    "version": 2
   },
   "file_extension": ".py",
   "mimetype": "text/x-python",
   "name": "python",
   "nbconvert_exporter": "python",
   "pygments_lexer": "ipython2",
   "version": "2.7.13"
  }
 },
 "nbformat": 4,
 "nbformat_minor": 2
}
