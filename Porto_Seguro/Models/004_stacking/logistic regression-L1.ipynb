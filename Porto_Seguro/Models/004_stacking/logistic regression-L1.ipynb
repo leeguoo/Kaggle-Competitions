{
 "cells": [
  {
   "cell_type": "code",
   "execution_count": 1,
   "metadata": {
    "collapsed": false
   },
   "outputs": [
    {
     "name": "stdout",
     "output_type": "stream",
     "text": [
      "README          \u001b[31mtest4stack.csv\u001b[m\u001b[m  \u001b[31mtrain4stack.csv\u001b[m\u001b[m\r\n"
     ]
    }
   ],
   "source": [
    "!ls data/changlin_20171108_2/"
   ]
  },
  {
   "cell_type": "code",
   "execution_count": 2,
   "metadata": {
    "collapsed": true
   },
   "outputs": [],
   "source": [
    "import os\n",
    "import pandas as pd\n",
    "import matplotlib.pylab as plt"
   ]
  },
  {
   "cell_type": "code",
   "execution_count": 3,
   "metadata": {
    "collapsed": false
   },
   "outputs": [],
   "source": [
    "train = pd.read_csv('/Users/guoli/Desktop/kaggle/Porto/train.csv',usecols=['target'])\n",
    "test = pd.DataFrame()"
   ]
  },
  {
   "cell_type": "code",
   "execution_count": 4,
   "metadata": {
    "collapsed": false
   },
   "outputs": [],
   "source": [
    "foldernames = os.popen('ls data').readlines()"
   ]
  },
  {
   "cell_type": "code",
   "execution_count": 5,
   "metadata": {
    "collapsed": false
   },
   "outputs": [],
   "source": [
    "for foldername in foldernames:\n",
    "    foldername = foldername[:-1]\n",
    "    train[foldername] = pd.read_csv('data/{0}/train4stack.csv'.format(foldername))\n",
    "    test[foldername] = pd.read_csv('data/{0}/test4stack.csv'.format(foldername))"
   ]
  },
  {
   "cell_type": "code",
   "execution_count": 6,
   "metadata": {
    "collapsed": false
   },
   "outputs": [
    {
     "data": {
      "text/html": [
       "<div>\n",
       "<table border=\"1\" class=\"dataframe\">\n",
       "  <thead>\n",
       "    <tr style=\"text-align: right;\">\n",
       "      <th></th>\n",
       "      <th>target</th>\n",
       "      <th>changlin_20171108_1</th>\n",
       "      <th>changlin_20171108_2</th>\n",
       "      <th>guoli_20171108</th>\n",
       "    </tr>\n",
       "  </thead>\n",
       "  <tbody>\n",
       "    <tr>\n",
       "      <th>0</th>\n",
       "      <td>0</td>\n",
       "      <td>0.044521</td>\n",
       "      <td>0.046646</td>\n",
       "      <td>0.994861</td>\n",
       "    </tr>\n",
       "    <tr>\n",
       "      <th>1</th>\n",
       "      <td>0</td>\n",
       "      <td>0.035425</td>\n",
       "      <td>0.033705</td>\n",
       "      <td>1.047057</td>\n",
       "    </tr>\n",
       "    <tr>\n",
       "      <th>2</th>\n",
       "      <td>0</td>\n",
       "      <td>0.017495</td>\n",
       "      <td>0.021387</td>\n",
       "      <td>1.272133</td>\n",
       "    </tr>\n",
       "    <tr>\n",
       "      <th>3</th>\n",
       "      <td>0</td>\n",
       "      <td>0.033988</td>\n",
       "      <td>0.014646</td>\n",
       "      <td>0.477906</td>\n",
       "    </tr>\n",
       "    <tr>\n",
       "      <th>4</th>\n",
       "      <td>0</td>\n",
       "      <td>0.031818</td>\n",
       "      <td>0.031650</td>\n",
       "      <td>0.769130</td>\n",
       "    </tr>\n",
       "  </tbody>\n",
       "</table>\n",
       "</div>"
      ],
      "text/plain": [
       "   target  changlin_20171108_1  changlin_20171108_2  guoli_20171108\n",
       "0       0             0.044521             0.046646        0.994861\n",
       "1       0             0.035425             0.033705        1.047057\n",
       "2       0             0.017495             0.021387        1.272133\n",
       "3       0             0.033988             0.014646        0.477906\n",
       "4       0             0.031818             0.031650        0.769130"
      ]
     },
     "execution_count": 6,
     "metadata": {},
     "output_type": "execute_result"
    }
   ],
   "source": [
    "train.head()"
   ]
  },
  {
   "cell_type": "code",
   "execution_count": 7,
   "metadata": {
    "collapsed": false
   },
   "outputs": [
    {
     "data": {
      "image/png": "[encoded data removed]",
      "text/plain": [
       "<matplotlib.figure.Figure at 0x10c36c190>"
      ]
     },
     "metadata": {},
     "output_type": "display_data"
    }
   ],
   "source": [
    "train[train.target==1]['changlin_20171108_1'].plot(kind='hist',bins=50,alpha=0.5,normed=True)\n",
    "train[train.target==0]['changlin_20171108_1'].plot(kind='hist',bins=50,alpha=0.5,normed=True)\n",
    "plt.show()"
   ]
  },
  {
   "cell_type": "code",
   "execution_count": 8,
   "metadata": {
    "collapsed": false
   },
   "outputs": [
    {
     "data": {
      "image/png": "[encoded data removed]",
      "text/plain": [
       "<matplotlib.figure.Figure at 0x10d234850>"
      ]
     },
     "metadata": {},
     "output_type": "display_data"
    }
   ],
   "source": [
    "train[train.target==1]['changlin_20171108_2'].plot(kind='hist',bins=50,alpha=0.5,normed=True)\n",
    "train[train.target==0]['changlin_20171108_2'].plot(kind='hist',bins=50,alpha=0.5,normed=True)\n",
    "plt.show()"
   ]
  },
  {
   "cell_type": "code",
   "execution_count": 9,
   "metadata": {
    "collapsed": false
   },
   "outputs": [
    {
     "data": {
      "image/png": "[encoded data removed]",
      "text/plain": [
       "<matplotlib.figure.Figure at 0x10c34bfd0>"
      ]
     },
     "metadata": {},
     "output_type": "display_data"
    }
   ],
   "source": [
    "train[train.target==1]['guoli_20171108'].plot(kind='hist',bins=50,alpha=0.5,normed=True)\n",
    "train[train.target==0]['guoli_20171108'].plot(kind='hist',bins=50,alpha=0.5,normed=True)\n",
    "plt.show()"
   ]
  },
  {
   "cell_type": "code",
   "execution_count": 10,
   "metadata": {
    "collapsed": true
   },
   "outputs": [],
   "source": [
    "def gini(actual, pred, cmpcol = 0, sortcol = 1):\n",
    "    assert( len(actual) == len(pred) )\n",
    "    all = np.asarray(np.c_[ actual, pred, np.arange(len(actual)) ], dtype=np.float)\n",
    "    all = all[ np.lexsort((all[:,2], -1*all[:,1])) ]\n",
    "    totalLosses = all[:,0].sum()\n",
    "    giniSum = all[:,0].cumsum().sum() / totalLosses\n",
    " \n",
    "    giniSum -= (len(actual) + 1) / 2.\n",
    "    return giniSum / len(actual)\n",
    " \n",
    "def gini_normalized(a, p):\n",
    "    return gini(a, p) / gini(a, a)\n",
    "\n",
    "def gini_coefficient(preds,dtrain):\n",
    "    y = dtrain.get_label()\n",
    "    return 'gini', -gini_normalized(y,preds)"
   ]
  },
  {
   "cell_type": "code",
   "execution_count": 11,
   "metadata": {
    "collapsed": true
   },
   "outputs": [],
   "source": [
    "from sklearn.model_selection import KFold\n",
    "\n",
    "class CustomGridCV(object):\n",
    "    def __init__(self, X, y, model, metric, griddata, cv=5):\n",
    "        self.X = X\n",
    "        self.y = y\n",
    "        self.model = model\n",
    "        self.metric = metric\n",
    "        self.params = self.gridpoints(griddata)\n",
    "        self.cv = cv\n",
    "        self.bestScore = None\n",
    "        self.bestParams = None\n",
    "        \n",
    "    def gridpoints(self, data):\n",
    "        newparams = [{}]\n",
    "        for k in data.keys():\n",
    "            params = newparams\n",
    "            newparams = []\n",
    "            for v in data[k]:\n",
    "                for param in params:\n",
    "                    item = param.copy()\n",
    "                    item[k]=v\n",
    "                    newparams.append(item)           \n",
    "        return newparams\n",
    "    \n",
    "    def GridSearch(self):\n",
    "        for param in self.params:\n",
    "            self.model.set_params(**param)\n",
    "            score = self.KFoldScore()\n",
    "            if self.bestScore==None or self.bestScore<score:\n",
    "                self.bestScore = score\n",
    "                self.bestParams = param\n",
    "            print(\"Score: {0:.5f}, Params: {1}\".format(score,param))\n",
    "    \n",
    "    def KFoldScore(self):\n",
    "        kf = KFold(n_splits=5, shuffle=True, random_state=2)\n",
    "        y_pred = np.zeros(len(self.y))\n",
    "\n",
    "        for train_index, test_index in kf.split(self.X):\n",
    "            train_X, test_X = self.X[train_index], self.X[test_index]\n",
    "            train_y, test_y = self.y[train_index], self.y[test_index]\n",
    "            self.model.fit(train_X,train_y)\n",
    "            y_pred[test_index] = self.model.predict_proba(test_X)[:,1]\n",
    "\n",
    "        return self.metric(self.y,y_pred)\n",
    "    \n",
    "    def Best(self):\n",
    "        return self.bestScore, self.bestParams"
   ]
  },
  {
   "cell_type": "code",
   "execution_count": 12,
   "metadata": {
    "collapsed": true
   },
   "outputs": [],
   "source": [
    "import pandas as pd\n",
    "import numpy as np\n",
    "\n",
    "def PrepareData(df):\n",
    "    #df = pd.read_csv(trainpath,nrows=nrows)\n",
    "\n",
    "    features = list(df.columns)\n",
    "    target = 'target'\n",
    "    features.remove(target)\n",
    "\n",
    "    X = np.array(df[features])\n",
    "    y = np.array(df[target])\n",
    "    return X, y"
   ]
  },
  {
   "cell_type": "code",
   "execution_count": 13,
   "metadata": {
    "collapsed": true
   },
   "outputs": [],
   "source": [
    "from sklearn.linear_model import LogisticRegression"
   ]
  },
  {
   "cell_type": "code",
   "execution_count": 21,
   "metadata": {
    "collapsed": false
   },
   "outputs": [
    {
     "name": "stdout",
     "output_type": "stream",
     "text": [
      "Score: 0.28166, Params: {'C': 0.07}\n",
      "Score: 0.28169, Params: {'C': 0.08}\n",
      "Score: 0.28170, Params: {'C': 0.09}\n",
      "Score: 0.28169, Params: {'C': 0.1}\n",
      "Score: 0.28169, Params: {'C': 0.11}\n"
     ]
    }
   ],
   "source": [
    "X, y = PrepareData(train)\n",
    "model = LogisticRegression(penalty='l1')\n",
    "griddata = {'C':[7e-2,8e-2,9e-2,1e-1,1.1e-1]}\n",
    "GCV = CustomGridCV(X, y, model, gini_normalized, griddata)\n",
    "GCV.GridSearch()"
   ]
  },
  {
   "cell_type": "code",
   "execution_count": 22,
   "metadata": {
    "collapsed": false
   },
   "outputs": [
    {
     "name": "stdout",
     "output_type": "stream",
     "text": [
      "[[  1.69994988  16.20227505   0.07898396]]\n",
      "0.282148328256\n"
     ]
    }
   ],
   "source": [
    "model = LogisticRegression(penalty='l1',C=0.09)\n",
    "\n",
    "model.fit(X,y)\n",
    "\n",
    "print model.coef_\n",
    "\n",
    "print gini_normalized(y,model.predict_proba(X)[:,1])"
   ]
  },
  {
   "cell_type": "code",
   "execution_count": 143,
   "metadata": {
    "collapsed": false
   },
   "outputs": [],
   "source": [
    "#model.predict_proba(np.array(test))[:,1]"
   ]
  },
  {
   "cell_type": "code",
   "execution_count": 23,
   "metadata": {
    "collapsed": false
   },
   "outputs": [],
   "source": [
    "result = pd.read_csv('/Users/guoli/Desktop/kaggle/Porto/test.csv',usecols=['id'])\n",
    "result['target'] = model.predict_proba(np.array(test))[:,1]"
   ]
  },
  {
   "cell_type": "code",
   "execution_count": 24,
   "metadata": {
    "collapsed": false
   },
   "outputs": [
    {
     "data": {
      "text/html": [
       "<div>\n",
       "<table border=\"1\" class=\"dataframe\">\n",
       "  <thead>\n",
       "    <tr style=\"text-align: right;\">\n",
       "      <th></th>\n",
       "      <th>id</th>\n",
       "      <th>target</th>\n",
       "    </tr>\n",
       "  </thead>\n",
       "  <tbody>\n",
       "    <tr>\n",
       "      <th>0</th>\n",
       "      <td>0</td>\n",
       "      <td>0.027214</td>\n",
       "    </tr>\n",
       "    <tr>\n",
       "      <th>1</th>\n",
       "      <td>1</td>\n",
       "      <td>0.026850</td>\n",
       "    </tr>\n",
       "    <tr>\n",
       "      <th>2</th>\n",
       "      <td>2</td>\n",
       "      <td>0.026824</td>\n",
       "    </tr>\n",
       "    <tr>\n",
       "      <th>3</th>\n",
       "      <td>3</td>\n",
       "      <td>0.022882</td>\n",
       "    </tr>\n",
       "    <tr>\n",
       "      <th>4</th>\n",
       "      <td>4</td>\n",
       "      <td>0.030893</td>\n",
       "    </tr>\n",
       "  </tbody>\n",
       "</table>\n",
       "</div>"
      ],
      "text/plain": [
       "   id    target\n",
       "0   0  0.027214\n",
       "1   1  0.026850\n",
       "2   2  0.026824\n",
       "3   3  0.022882\n",
       "4   4  0.030893"
      ]
     },
     "execution_count": 24,
     "metadata": {},
     "output_type": "execute_result"
    }
   ],
   "source": [
    "result.head()"
   ]
  },
  {
   "cell_type": "code",
   "execution_count": 25,
   "metadata": {
    "collapsed": true
   },
   "outputs": [],
   "source": [
    "result.to_csv('xgb_nn_encoder_l1.csv',index=False)"
   ]
  },
  {
   "cell_type": "code",
   "execution_count": 148,
   "metadata": {
    "collapsed": false
   },
   "outputs": [
    {
     "name": "stdout",
     "output_type": "stream",
     "text": [
      "id,target\r\n",
      "0,0.0261317432156\r\n",
      "1,0.0259512759203\r\n",
      "2,0.0256943898781\r\n",
      "3,0.021864325779\r\n",
      "4,0.0296683108862\r\n",
      "5,0.0333643762681\r\n",
      "6,0.0218926572291\r\n",
      "8,0.0292410953604\r\n",
      "10,0.0391363268473\r\n"
     ]
    }
   ],
   "source": [
    "! head xgb_nn_encoder.csv"
   ]
  },
  {
   "cell_type": "code",
   "execution_count": 26,
   "metadata": {
    "collapsed": false
   },
   "outputs": [
    {
     "name": "stdout",
     "output_type": "stream",
     "text": [
      "id,target\r\n",
      "0,0.027213944809\r\n",
      "1,0.0268504878018\r\n",
      "2,0.0268239266324\r\n",
      "3,0.0228817182222\r\n",
      "4,0.0308930172235\r\n",
      "5,0.0347603909417\r\n",
      "6,0.0228852173097\r\n",
      "8,0.0301340889855\r\n",
      "10,0.0407172460428\r\n"
     ]
    }
   ],
   "source": [
    "! head xgb_nn_encoder_l1.csv"
   ]
  },
  {
   "cell_type": "code",
   "execution_count": null,
   "metadata": {
    "collapsed": true
   },
   "outputs": [],
   "source": []
  }
 ],
 "metadata": {
  "kernelspec": {
   "display_name": "Python 2",
   "language": "python",
   "name": "python2"
  },
  "language_info": {
   "codemirror_mode": {
    "name": "ipython",
    "version": 2
   },
   "file_extension": ".py",
   "mimetype": "text/x-python",
   "name": "python",
   "nbconvert_exporter": "python",
   "pygments_lexer": "ipython2",
   "version": "2.7.13"
  }
 },
 "nbformat": 4,
 "nbformat_minor": 2
}
